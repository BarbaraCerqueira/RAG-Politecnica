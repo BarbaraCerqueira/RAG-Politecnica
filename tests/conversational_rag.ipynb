{
 "cells": [
  {
   "cell_type": "markdown",
   "metadata": {},
   "source": [
    "# PoliGPT - Conversação RAG"
   ]
  },
  {
   "cell_type": "code",
   "execution_count": null,
   "metadata": {},
   "outputs": [],
   "source": [
    "import os\n",
    "import json\n",
    "from typing import Any, Dict, List, Optional, Tuple\n",
    "\n",
    "os.environ[\"AZURESEARCH_FIELDS_ID\"] = \"chunk_id\"\n",
    "os.environ[\"AZURESEARCH_FIELDS_CONTENT\"] = \"chunk\"\n",
    "os.environ[\"AZURESEARCH_FIELDS_CONTENT_VECTOR\"] = \"vector\"\n",
    "os.environ[\"AZURESEARCH_FIELDS_TAG\"] = None"
   ]
  },
  {
   "cell_type": "code",
   "execution_count": null,
   "metadata": {},
   "outputs": [],
   "source": [
    "from langchain_core.utils import get_from_env\n",
    "from langchain_core.documents import Document\n",
    "from langchain_core.retrievers import BaseRetriever\n",
    "from langchain_core.callbacks import CallbackManagerForRetrieverRun\n",
    "from langchain_community.vectorstores.azuresearch import AzureSearch, AzureSearchVectorStoreRetriever\n",
    "from langchain_openai import OpenAIEmbeddings"
   ]
  },
  {
   "cell_type": "code",
   "execution_count": 3,
   "metadata": {},
   "outputs": [],
   "source": [
    "from langchain.tools.retriever import create_retriever_tool\n",
    "from langchain_openai import ChatOpenAI, OpenAIEmbeddings\n",
    "from langgraph.checkpoint.memory import MemorySaver\n",
    "from langgraph.prebuilt import create_react_agent"
   ]
  },
  {
   "cell_type": "code",
   "execution_count": 4,
   "metadata": {},
   "outputs": [],
   "source": [
    "from azure.core.credentials import AzureKeyCredential\n",
    "from azure.identity import DefaultAzureCredential\n",
    "from azure.keyvault.secrets import SecretClient"
   ]
  },
  {
   "cell_type": "code",
   "execution_count": 18,
   "metadata": {},
   "outputs": [
    {
     "name": "stdout",
     "output_type": "stream",
     "text": [
      "vector\n"
     ]
    }
   ],
   "source": [
    "AZURESEARCH_FIELDS_CONTENT_VECTOR = os.getenv(\"AZURESEARCH_FIELDS_CONTENT_VECTOR\")\n",
    "print(AZURESEARCH_FIELDS_CONTENT_VECTOR)"
   ]
  },
  {
   "cell_type": "markdown",
   "metadata": {},
   "source": [
    "## Key Vault Client"
   ]
  },
  {
   "cell_type": "code",
   "execution_count": 5,
   "metadata": {},
   "outputs": [],
   "source": [
    "kv_uri = \"https://kv-poligpt-dev-eastus2.vault.azure.net\"\n",
    "credential = DefaultAzureCredential()\n",
    "\n",
    "client = SecretClient(vault_url=kv_uri, credential=credential)"
   ]
  },
  {
   "cell_type": "markdown",
   "metadata": {},
   "source": [
    "## Parameters"
   ]
  },
  {
   "cell_type": "code",
   "execution_count": 6,
   "metadata": {},
   "outputs": [],
   "source": [
    "COMPLETION_MODEL = \"gpt-4o-2024-08-06\"\n",
    "EMBEDDING_MODEL = \"text-embedding-3-large\"\n",
    "EMBEDDING_DIMENSIONS = 3072\n",
    "\n",
    "OPENAI_API_KEY = client.get_secret(\"openai-api-key\").value"
   ]
  },
  {
   "cell_type": "code",
   "execution_count": 7,
   "metadata": {},
   "outputs": [],
   "source": [
    "AZURE_SEARCH_ENDPOINT = client.get_secret(\"azure-search-endpoint\").value\n",
    "AZURE_SEARCH_ADMIN_KEY = client.get_secret(\"azure-search-admin-key\").value\n",
    "SEARCH_INDEX_NAME = \"poligpt-index\""
   ]
  },
  {
   "cell_type": "markdown",
   "metadata": {},
   "source": [
    "## Setup"
   ]
  },
  {
   "cell_type": "markdown",
   "metadata": {},
   "source": [
    "### LLM"
   ]
  },
  {
   "cell_type": "markdown",
   "metadata": {},
   "source": [
    "### Embeddings"
   ]
  },
  {
   "cell_type": "code",
   "execution_count": 8,
   "metadata": {},
   "outputs": [],
   "source": [
    "embeddings = OpenAIEmbeddings(\n",
    "    openai_api_key=OPENAI_API_KEY, \n",
    "    model=EMBEDDING_MODEL\n",
    ")"
   ]
  },
  {
   "cell_type": "markdown",
   "metadata": {},
   "source": [
    "### Vector Store - Azure Search AI"
   ]
  },
  {
   "cell_type": "code",
   "execution_count": null,
   "metadata": {},
   "outputs": [],
   "source": [
    "class CustomAzureSearchRetriever(BaseRetriever):\n",
    "    \"\"\"\n",
    "    Essa classe implementa um Retriever para Azure Search AI,\n",
    "    sobrescrevendo o método _get_relevant_documents, para tornar o output dos resultados das \n",
    "    buscas mais compacto sem necessidade de alterar a estrutura de campos no Index Search AI. \n",
    "    Isso irá favorecer o uso desses resultados dentro do contexto de Retrieval Augmented\n",
    "    Generation, pois irá evitar uma quantidade desnecessária de tokens extras.\n",
    "\n",
    "    \"\"\"\n",
    "    def __init__(\n",
    "        self, k: int = 5,\n",
    "        search_type: str = \"hybrid\",\n",
    "        id_field: str,\n",
    "        content_field: str,\n",
    "        vector_field: str,\n",
    "        extra_fields: List = [],\n",
    "        **kwargs: Any\n",
    "    ):     \n",
    "        super().__init__(**kwargs)\n",
    "\n",
    "        self.k = k\n",
    "        self.search_type = search_type\n",
    "        self.id_field = id_field\n",
    "        self.content_field = content_field\n",
    "        self.vector_field = vector_field\n",
    "        self.extra_fields = extra_fields\n",
    "\n",
    "    def hybrid_search_with_score(\n",
    "        self, query: str, k: int = 4, filters: Optional[str] = None, **kwargs: Any,\n",
    "    ) -> List[Tuple[Document, float]]:\n",
    "        \n",
    "        embedding = self.embed_query(query)\n",
    "        results = self._simple_search(embedding, query, k, filters=filters, **kwargs)\n",
    "\n",
    "        return _results_to_documents(results)\n",
    "    \n",
    "    def _get_relevant_documents(\n",
    "        self, query: str, run_manager: CallbackManagerForRetrieverRun, **kwargs: Any,\n",
    "    ) -> List[Document]:\n",
    "        params = {**self.search_kwargs, **kwargs}\n",
    "\n",
    "        if self.search_type == \"similarity\":\n",
    "            docs = self.vectorstore.vector_search(query, k=self.k, **params)\n",
    "        elif self.search_type == \"hybrid\":\n",
    "            docs = self.vectorstore.hybrid_search(query, k=self.k, **params)\n",
    "        elif self.search_type == \"semantic_hybrid\":\n",
    "            docs = self.vectorstore.semantic_hybrid_search(query, k=self.k, **params)\n",
    "        else:\n",
    "            raise ValueError(f\"search_type of {self.search_type} not allowed.\")\n",
    "        return docs"
   ]
  },
  {
   "cell_type": "code",
   "execution_count": null,
   "metadata": {},
   "outputs": [],
   "source": [
    "class CustomAzureSearchRetriever(AzureSearchVectorStoreRetriever):\n",
    "    \"\"\"\n",
    "    Essa classe implementa um customização do Retriever LangChain para Azure Search AI,\n",
    "    sobrescrevendo o método _get_relevant_documents, para tornar o output dos resultados das \n",
    "    buscas mais compacto sem necessidade de alterar a estrutura de campos no Index Search AI. \n",
    "    Isso irá favorecer o uso desses resultados dentro do contexto de Retrieval Augmented\n",
    "    Generation, pois irá evitar uma quantidade desnecessária de tokens extras.\n",
    "    \n",
    "    Setup:\n",
    "        As seguintes variáveis de ambiente devem estar definidas:\n",
    "\n",
    "        AZURESEARCH_FIELDS_ID = \"<CHAVE_PRIMARIA_INDEX_AZURE_SEARCH>\"\n",
    "        AZURESEARCH_FIELDS_CONTENT_VECTOR = \"<CAMPO_VETOR_AZURE_SEARCH>\"\n",
    "        AZURESEARCH_FIELDS_CONTENT = \"<CAMPO_CONTEUDO_TEXTO_AZURE_SEARCH>\"\n",
    "        AZURESEARCH_FIELDS_TAG = \"<CAMPO_METADADOS_AZURE_SEARCH>\"\n",
    "\n",
    "        O campo de metadados pode opcionalmente ser deixado vazio, pois não é necessário na\n",
    "        maioria dos casos de uso.\n",
    "\n",
    "    \"\"\"\n",
    "    def __init__(self, extra_fields: List = [], **kwargs: Any):     \n",
    "        super().__init__(**kwargs)\n",
    "\n",
    "        self.extra_fields = extra_fields\n",
    "\n",
    "    def _get_relevant_documents(\n",
    "        self,\n",
    "        query: str,\n",
    "        run_manager: CallbackManagerForRetrieverRun,\n",
    "        **kwargs: Any,\n",
    "    ) -> List[Document]:\n",
    "        # Fields metadata\n",
    "        if FIELDS_METADATA in result:\n",
    "            if isinstance(result[FIELDS_METADATA], dict):\n",
    "                fields_metadata = result[FIELDS_METADATA]\n",
    "            else:\n",
    "                fields_metadata = json.loads(result[FIELDS_METADATA])\n",
    "        else:\n",
    "            fields_metadata = {\n",
    "                key: value for key, value in result.items() if key in extra_fields\n",
    "            }\n",
    "        # IDs\n",
    "        if FIELDS_ID in result:\n",
    "            fields_id = {FIELDS_ID: result.pop(FIELDS_ID)}\n",
    "        else:\n",
    "            fields_id = {}\n",
    "        return Document(\n",
    "            page_content=result.pop(FIELDS_CONTENT),\n",
    "            metadata={\n",
    "                **fields_id,\n",
    "                **fields_metadata,\n",
    "            },\n",
    "        )"
   ]
  },
  {
   "cell_type": "code",
   "execution_count": null,
   "metadata": {},
   "outputs": [],
   "source": [
    "vector_store = AzureSearch(\n",
    "    azure_search_endpoint=AZURE_SEARCH_ENDPOINT,\n",
    "    azure_search_key=AZURE_SEARCH_ADMIN_KEY,\n",
    "    index_name=SEARCH_INDEX_NAME,\n",
    "    embedding_function=embeddings.embed_query\n",
    ")\n",
    "\n",
    "retriever = AzureSearchVectorStoreRetriever()"
   ]
  },
  {
   "cell_type": "code",
   "execution_count": 10,
   "metadata": {},
   "outputs": [],
   "source": [
    "docs = vector_store.hybrid_search(\n",
    "    query=\"Como me inscrevo numa materia?\",\n",
    "    k=3\n",
    ")"
   ]
  },
  {
   "cell_type": "code",
   "execution_count": null,
   "metadata": {},
   "outputs": [
    {
     "data": {
      "text/plain": [
       "[Document(metadata={'chunk_id': '90a4571bb413_7e37d055112566ce114ae3d34b4ec12f_pages_0', 'chunk': 'STI Setor de Tecnologia da Informação \\nEscola Politécnica \\nUFRJ\\n\\nPoliMoodle – Inscrição em Disciplina\\n\\nSTI Poli UFRJ – http://www.sti.poli.ufrj.br – sti@poli.uftj.br V2020-08-19\\n\\nPara se inscrever como aluno em uma disciplina no PoliMoodle, você deve seguir os passos abaixo:\\n\\n1. Acesse o ambiente PoliMoodle (http://www.moodle.poli.ufrj.br), informando a sua conta e a sua senha.\\n\\n2. A área “Meus cursos” mostra as disciplinas que você está inscrito. Clique em \"Todos os cursos\" para se \\ninscrever em outras disciplinas.\\n\\n3. Na nova tela, você poderá navegar pelos Departamentos para ter acesso às disciplinas disponíveis.\\n\\nSTI Setor de Tecnologia da Informação \\nEscola Politécnica \\nUFRJ\\n\\nPoliMoodle – Inscrição em Disciplina\\n\\nSTI Poli UFRJ – http://www.sti.poli.ufrj.br – sti@poli.uftj.br V2020-08-19\\n\\nOutra forma para ter acesso às disciplinas disponíveis é utilizando o recurso de busca, no campo “Buscar por \\ncurso”. Digite a informação desejada e clique em “Vai” para realizar a busca.\\n\\n4. Como resultados da navegação ou do recurso de busca serão mostradas as disciplinas disponíveis. Clique na \\ndisciplina desejada.\\n\\nSTI Setor de Tecnologia da Informação \\nEscola Politécnica \\nUFRJ\\n\\nPoliMoodle – Inscrição em Disciplina\\n\\nSTI Poli UFRJ – http://www.sti.poli.ufrj.br – sti@poli.uftj.br V2020-08-19\\n\\n5. Após clicar na disciplina desejada, serão mostrados mais detalhes desta. Informe, no campo “Chave de \\ninscrição”, a chave de inscrição (senha) para realizar a sua autoinscrição nesta disciplina. Clique em “Inscreva-me” \\npara concluir o processo.', 'parent_id': '7e37d055112566ce114ae3d34b4ec12f', 'last_modified': '09/14/2021 00:00:00 +00:00', 'keywords': 'tutoriais', 'title': 'Microsoft Word - PoliMoodle-Inscricao-em-disciplina', '@search.score': 0.028021348640322685, '@search.reranker_score': None, '@search.highlights': None, '@search.captions': None}, page_content='STI Setor de Tecnologia da Informação \\nEscola Politécnica \\nUFRJ\\n\\nPoliMoodle – Inscrição em Disciplina\\n\\nSTI Poli UFRJ – http://www.sti.poli.ufrj.br – sti@poli.uftj.br V2020-08-19\\n\\nPara se inscrever como aluno em uma disciplina no PoliMoodle, você deve seguir os passos abaixo:\\n\\n1. Acesse o ambiente PoliMoodle (http://www.moodle.poli.ufrj.br), informando a sua conta e a sua senha.\\n\\n2. A área “Meus cursos” mostra as disciplinas que você está inscrito. Clique em \"Todos os cursos\" para se \\ninscrever em outras disciplinas.\\n\\n3. Na nova tela, você poderá navegar pelos Departamentos para ter acesso às disciplinas disponíveis.\\n\\nSTI Setor de Tecnologia da Informação \\nEscola Politécnica \\nUFRJ\\n\\nPoliMoodle – Inscrição em Disciplina\\n\\nSTI Poli UFRJ – http://www.sti.poli.ufrj.br – sti@poli.uftj.br V2020-08-19\\n\\nOutra forma para ter acesso às disciplinas disponíveis é utilizando o recurso de busca, no campo “Buscar por \\ncurso”. Digite a informação desejada e clique em “Vai” para realizar a busca.\\n\\n4. Como resultados da navegação ou do recurso de busca serão mostradas as disciplinas disponíveis. Clique na \\ndisciplina desejada.\\n\\nSTI Setor de Tecnologia da Informação \\nEscola Politécnica \\nUFRJ\\n\\nPoliMoodle – Inscrição em Disciplina\\n\\nSTI Poli UFRJ – http://www.sti.poli.ufrj.br – sti@poli.uftj.br V2020-08-19\\n\\n5. Após clicar na disciplina desejada, serão mostrados mais detalhes desta. Informe, no campo “Chave de \\ninscrição”, a chave de inscrição (senha) para realizar a sua autoinscrição nesta disciplina. Clique em “Inscreva-me” \\npara concluir o processo.'),\n",
       " Document(metadata={'chunk_id': '03f8d74cb109_0c3109478349dab0d8c382b4b5687f6c_pages_12', 'chunk': 'de abrir mais \\nvagas ou de fazer inscrição direta para a turma. Caso necessário, entre em contato \\ncom a coordenação do curso e ou a secretaria, em busca de uma solução. Os casos \\nmais graves são expulsões de disciplinas de ciclo básico, principalmente unificadas, \\npois são disciplinas que são pré-requisitos de muitas matérias do ciclo profissional. \\nNão deixe de fazer uma disciplina de ciclo básico porque foi expulso. \\nVocê pode acompanhar a sua inscrição na aba “Situação dos Pedidos”, quando a \\nmatéria estiver como “Normal” ou “Previsão Pendente” está tudo bem, mas se \\naparecer “Lotação Esgotada” você não conseguiu vaga. Esta situação sempre pode \\nmudar no decorrer do Período de Inscrição. \\nAlgumas semanas depois também ocorre o Período de Alteração. No mesmo, as suas \\ninscrições anteriores que foram efetivadas já estão garantidas, mas você poderá \\ntrancá-las ou se inscrever em outras que ainda possuem vagas.\\n\\n17\\n\\nGuia Ambiental\\xa0\\n\\nAntes de se inscrever em qualquer matéria sempre \\natente-se ao \\u200bcódigo \\u200bda disciplina. No link que colocamos com a Grade Curricular você \\npode ver o código de cada matéria e, ao final da página, quais códigos são \\nconsiderados equivalentes para a Engenharia Ambiental. Se você cursar uma matéria \\nque possui o mesmo nome que uma da grade, porém de código diferente (e que não é \\ndito como “equivalente”), ela não será considerada realizada, provavelmente entrará \\ncomo uma eletiva.\\n\\nPara decidir com quais professores cursar, você pode pedir ajuda a seus veteranos, \\nperguntar no grupo do Whatsapp “\\u200bInformes\\u200b”, que é para assuntos pertinentes do \\nnosso curso, ou jogar na lupa/postar no grupo do Facebook “\\u200bCT - Professores e \\nMatérias”\\u200b. \\nOutras dúvidas podem ser retiradas no canal do SIGA do Youtube: \\nhttps://www.youtube.com/channel/UCV-qXHAUa-rcblTYP-kZgCQ\\n\\nUnificadas \\nO que são as tão temidas Unificadas? \\nAs disciplinas unificadas são algumas das matérias comuns a todas a engenharias,', 'parent_id': '0c3109478349dab0d8c382b4b5687f6c', 'last_modified': None, 'keywords': 'estudante,gaea gramio academico de engenharia ambiental', 'title': None, '@search.score': 0.020588235929608345, '@search.reranker_score': None, '@search.highlights': None, '@search.captions': None}, page_content='de abrir mais \\nvagas ou de fazer inscrição direta para a turma. Caso necessário, entre em contato \\ncom a coordenação do curso e ou a secretaria, em busca de uma solução. Os casos \\nmais graves são expulsões de disciplinas de ciclo básico, principalmente unificadas, \\npois são disciplinas que são pré-requisitos de muitas matérias do ciclo profissional. \\nNão deixe de fazer uma disciplina de ciclo básico porque foi expulso. \\nVocê pode acompanhar a sua inscrição na aba “Situação dos Pedidos”, quando a \\nmatéria estiver como “Normal” ou “Previsão Pendente” está tudo bem, mas se \\naparecer “Lotação Esgotada” você não conseguiu vaga. Esta situação sempre pode \\nmudar no decorrer do Período de Inscrição. \\nAlgumas semanas depois também ocorre o Período de Alteração. No mesmo, as suas \\ninscrições anteriores que foram efetivadas já estão garantidas, mas você poderá \\ntrancá-las ou se inscrever em outras que ainda possuem vagas.\\n\\n17\\n\\nGuia Ambiental\\xa0\\n\\nAntes de se inscrever em qualquer matéria sempre \\natente-se ao \\u200bcódigo \\u200bda disciplina. No link que colocamos com a Grade Curricular você \\npode ver o código de cada matéria e, ao final da página, quais códigos são \\nconsiderados equivalentes para a Engenharia Ambiental. Se você cursar uma matéria \\nque possui o mesmo nome que uma da grade, porém de código diferente (e que não é \\ndito como “equivalente”), ela não será considerada realizada, provavelmente entrará \\ncomo uma eletiva.\\n\\nPara decidir com quais professores cursar, você pode pedir ajuda a seus veteranos, \\nperguntar no grupo do Whatsapp “\\u200bInformes\\u200b”, que é para assuntos pertinentes do \\nnosso curso, ou jogar na lupa/postar no grupo do Facebook “\\u200bCT - Professores e \\nMatérias”\\u200b. \\nOutras dúvidas podem ser retiradas no canal do SIGA do Youtube: \\nhttps://www.youtube.com/channel/UCV-qXHAUa-rcblTYP-kZgCQ\\n\\nUnificadas \\nO que são as tão temidas Unificadas? \\nAs disciplinas unificadas são algumas das matérias comuns a todas a engenharias,'),\n",
       " Document(metadata={'chunk_id': 'bc6b54a250ec_658c66608c6632a9f97b03fea1b23008_pages_6', 'chunk': 'que o aluno não \\nconsegue se inscrever em mais de um terço de disciplinas fora do seu \\ncurrículo.\\n\\n10\\n\\nPALETA “TURMAS” PARA PESQUISA\\n\\n11\\n Depois de visualizar as turmas, é só marcar a caixinha à esquerda da \\ndisciplina e clicar no alto à direita em “ADICIONAR À INSCRIÇÃO”. A \\ndisciplina aparecerá na tela principal de pedidos e você pode clicar \\nnovamente em “TURMAS” para realizar nova pesquisa. Ao final da seleção \\nde novas disciplinas, clique em “ENVIAR” quando todos os seus pedidos \\nestiverem na tela principal. O SIGA imediatamente emitirá um \\nPROTOCOLO DE ENVIO DE PEDIDOS, que é uma espécie de recibo, \\natestando que seus PEDIDOS foram enviados com sucesso. LEMBRE-SE: \\nNESSE MOMENTO VOCÊ AINDA NÃO FEZ INSCRIÇÕES, MAS \\nAPENAS AS SOLICITOU, PODENDO OU NÃO TER SUCESSO NO SEU \\nPEDIDO.\\n\\nTELA DA PESQUISA DE TURMAS\\n\\nTELA PRINCIPAL DE PEDIDOS ANTES DO ENVIO\\n\\n12\\n\\n Dentro de todo o período de pedidos ou alteração é possível excluir a \\ndisciplina (como se fosse “recolher o pedido”), clicando no “X” do lado \\ndireito da tela, na linha da disciplina e clicando novamente em ENVIAR. \\nCaso você decida modificar um pedido e transferi-lo para outra turma da \\nmesma disciplina, é só clicar na seta do campo “TRANSFERIR” ao lado da \\ndata de inclusão que aparecerão as outras turmas disponíveis dessa mesma \\ndisciplina. Escolha uma e depois clique em “ENVIAR”.\\n\\nPROTOCOLO DE ENVIO DE PEDIDO (CRPID)\\n\\n13\\n\\n No protocolo (CRPID), as disciplinas poderão aparecer com algumas \\nmensagens de alerta, identificadas por uma letra maiúscula no campo \\n“SITUAÇÃO”. Isso NÃO SIGNIFICA que seu pedido não foi enviado e \\nessas mensagens também NÃO INTERFEREM no processo de alocação nas \\nturmas. São apenas indicativos de situações que precisam ser resolvidas para \\nque o professor não fique impossibilitado de lançar sua nota no final do \\nsemestre, pois seu nome desaparecerá da pauta final. As mensagens são:\\n\\nFalta de requisito (LETRA F): significa que o pré-requisito da disciplina não', 'parent_id': '658c66608c6632a9f97b03fea1b23008', 'last_modified': '12/03/2010 00:00:00 +00:00', 'keywords': 'estudante,alteracoes de disciplinas', 'title': 'INTRODUO', '@search.score': 0.017427733168005943, '@search.reranker_score': None, '@search.highlights': None, '@search.captions': None}, page_content='que o aluno não \\nconsegue se inscrever em mais de um terço de disciplinas fora do seu \\ncurrículo.\\n\\n10\\n\\nPALETA “TURMAS” PARA PESQUISA\\n\\n11\\n Depois de visualizar as turmas, é só marcar a caixinha à esquerda da \\ndisciplina e clicar no alto à direita em “ADICIONAR À INSCRIÇÃO”. A \\ndisciplina aparecerá na tela principal de pedidos e você pode clicar \\nnovamente em “TURMAS” para realizar nova pesquisa. Ao final da seleção \\nde novas disciplinas, clique em “ENVIAR” quando todos os seus pedidos \\nestiverem na tela principal. O SIGA imediatamente emitirá um \\nPROTOCOLO DE ENVIO DE PEDIDOS, que é uma espécie de recibo, \\natestando que seus PEDIDOS foram enviados com sucesso. LEMBRE-SE: \\nNESSE MOMENTO VOCÊ AINDA NÃO FEZ INSCRIÇÕES, MAS \\nAPENAS AS SOLICITOU, PODENDO OU NÃO TER SUCESSO NO SEU \\nPEDIDO.\\n\\nTELA DA PESQUISA DE TURMAS\\n\\nTELA PRINCIPAL DE PEDIDOS ANTES DO ENVIO\\n\\n12\\n\\n Dentro de todo o período de pedidos ou alteração é possível excluir a \\ndisciplina (como se fosse “recolher o pedido”), clicando no “X” do lado \\ndireito da tela, na linha da disciplina e clicando novamente em ENVIAR. \\nCaso você decida modificar um pedido e transferi-lo para outra turma da \\nmesma disciplina, é só clicar na seta do campo “TRANSFERIR” ao lado da \\ndata de inclusão que aparecerão as outras turmas disponíveis dessa mesma \\ndisciplina. Escolha uma e depois clique em “ENVIAR”.\\n\\nPROTOCOLO DE ENVIO DE PEDIDO (CRPID)\\n\\n13\\n\\n No protocolo (CRPID), as disciplinas poderão aparecer com algumas \\nmensagens de alerta, identificadas por uma letra maiúscula no campo \\n“SITUAÇÃO”. Isso NÃO SIGNIFICA que seu pedido não foi enviado e \\nessas mensagens também NÃO INTERFEREM no processo de alocação nas \\nturmas. São apenas indicativos de situações que precisam ser resolvidas para \\nque o professor não fique impossibilitado de lançar sua nota no final do \\nsemestre, pois seu nome desaparecerá da pauta final. As mensagens são:\\n\\nFalta de requisito (LETRA F): significa que o pré-requisito da disciplina não')]"
      ]
     },
     "execution_count": 11,
     "metadata": {},
     "output_type": "execute_result"
    },
    {
     "ename": "",
     "evalue": "",
     "output_type": "error",
     "traceback": [
      "\u001b[1;31mThe Kernel crashed while executing code in the current cell or a previous cell. \n",
      "\u001b[1;31mPlease review the code in the cell(s) to identify a possible cause of the failure. \n",
      "\u001b[1;31mClick <a href='https://aka.ms/vscodeJupyterKernelCrash'>here</a> for more info. \n",
      "\u001b[1;31mView Jupyter <a href='command:jupyter.viewOutput'>log</a> for further details."
     ]
    }
   ],
   "source": [
    "docs"
   ]
  },
  {
   "cell_type": "markdown",
   "metadata": {},
   "source": [
    "### Chat History "
   ]
  },
  {
   "cell_type": "code",
   "execution_count": null,
   "metadata": {},
   "outputs": [],
   "source": []
  },
  {
   "cell_type": "code",
   "execution_count": null,
   "metadata": {},
   "outputs": [],
   "source": []
  },
  {
   "cell_type": "code",
   "execution_count": null,
   "metadata": {},
   "outputs": [],
   "source": []
  },
  {
   "cell_type": "code",
   "execution_count": null,
   "metadata": {},
   "outputs": [],
   "source": []
  },
  {
   "cell_type": "code",
   "execution_count": null,
   "metadata": {},
   "outputs": [],
   "source": []
  },
  {
   "cell_type": "code",
   "execution_count": null,
   "metadata": {},
   "outputs": [],
   "source": []
  },
  {
   "cell_type": "code",
   "execution_count": null,
   "metadata": {},
   "outputs": [],
   "source": []
  },
  {
   "cell_type": "code",
   "execution_count": null,
   "metadata": {},
   "outputs": [],
   "source": []
  },
  {
   "cell_type": "code",
   "execution_count": null,
   "metadata": {},
   "outputs": [],
   "source": []
  },
  {
   "cell_type": "code",
   "execution_count": null,
   "metadata": {},
   "outputs": [],
   "source": []
  },
  {
   "cell_type": "code",
   "execution_count": null,
   "metadata": {},
   "outputs": [],
   "source": []
  }
 ],
 "metadata": {
  "kernelspec": {
   "display_name": ".venv",
   "language": "python",
   "name": "python3"
  },
  "language_info": {
   "codemirror_mode": {
    "name": "ipython",
    "version": 3
   },
   "file_extension": ".py",
   "mimetype": "text/x-python",
   "name": "python",
   "nbconvert_exporter": "python",
   "pygments_lexer": "ipython3",
   "version": "3.12.6"
  }
 },
 "nbformat": 4,
 "nbformat_minor": 2
}

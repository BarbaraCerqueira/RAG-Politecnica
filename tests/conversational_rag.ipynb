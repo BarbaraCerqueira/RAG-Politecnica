{
 "cells": [
  {
   "cell_type": "markdown",
   "metadata": {},
   "source": [
    "# PoliGPT - Conversação RAG"
   ]
  },
  {
   "cell_type": "code",
   "execution_count": 12,
   "metadata": {},
   "outputs": [],
   "source": [
    "import os\n",
    "\n",
    "os.environ[\"AZURESEARCH_FIELDS_ID\"] = \"chunk_id\"\n",
    "os.environ[\"AZURESEARCH_FIELDS_CONTENT\"] = \"chunk\"\n",
    "os.environ[\"AZURESEARCH_FIELDS_CONTENT_VECTOR\"] = \"vector\""
   ]
  },
  {
   "cell_type": "code",
   "execution_count": 13,
   "metadata": {},
   "outputs": [],
   "source": [
    "from langchain_core.utils import get_from_env\n",
    "from langchain_core.tools import tool\n",
    "from langchain_core.documents import Document\n",
    "from langchain_core.retrievers import BaseRetriever\n",
    "from langchain_core.callbacks import CallbackManagerForRetrieverRun\n",
    "from langchain_community.vectorstores.azuresearch import AzureSearch, AzureSearchVectorStoreRetriever"
   ]
  },
  {
   "cell_type": "code",
   "execution_count": 14,
   "metadata": {},
   "outputs": [],
   "source": [
    "from langchain.tools.retriever import create_retriever_tool\n",
    "from langchain_openai import ChatOpenAI, OpenAIEmbeddings\n",
    "from langgraph.checkpoint.memory import MemorySaver\n",
    "from langgraph.prebuilt import create_react_agent"
   ]
  },
  {
   "cell_type": "code",
   "execution_count": 15,
   "metadata": {},
   "outputs": [],
   "source": [
    "from azure.core.credentials import AzureKeyCredential\n",
    "from azure.identity import DefaultAzureCredential\n",
    "from azure.keyvault.secrets import SecretClient"
   ]
  },
  {
   "cell_type": "markdown",
   "metadata": {},
   "source": [
    "## Parameters"
   ]
  },
  {
   "cell_type": "code",
   "execution_count": 16,
   "metadata": {},
   "outputs": [],
   "source": [
    "# Conectar ao Azure Key Vault\n",
    "kv_uri = \"https://kv-poligpt-dev-eastus2.vault.azure.net\"\n",
    "credential = DefaultAzureCredential()\n",
    "client = SecretClient(vault_url=kv_uri, credential=credential)"
   ]
  },
  {
   "cell_type": "code",
   "execution_count": 17,
   "metadata": {},
   "outputs": [],
   "source": [
    "OPENAI_API_KEY = client.get_secret(\"openai-api-key\").value\n",
    "COMPLETION_MODEL = \"gpt-4o-2024-08-06\"\n",
    "EMBEDDING_MODEL = \"text-embedding-3-large\"\n",
    "EMBEDDING_DIMENSIONS = 3072\n",
    "\n",
    "AZURE_SEARCH_ENDPOINT = client.get_secret(\"azure-search-endpoint\").value\n",
    "AZURE_SEARCH_ADMIN_KEY = client.get_secret(\"azure-search-admin-key\").value\n",
    "SEARCH_INDEX_NAME = \"poligpt-index\""
   ]
  },
  {
   "cell_type": "markdown",
   "metadata": {},
   "source": [
    "## Setup"
   ]
  },
  {
   "cell_type": "markdown",
   "metadata": {},
   "source": [
    "### LLM"
   ]
  },
  {
   "cell_type": "code",
   "execution_count": 18,
   "metadata": {},
   "outputs": [],
   "source": [
    "llm = ChatOpenAI(\n",
    "    model=COMPLETION_MODEL,\n",
    "    api_key=OPENAI_API_KEY,\n",
    "    streaming=True,\n",
    "    temperature=0.3\n",
    ")"
   ]
  },
  {
   "cell_type": "markdown",
   "metadata": {},
   "source": [
    "### Embeddings"
   ]
  },
  {
   "cell_type": "code",
   "execution_count": 19,
   "metadata": {},
   "outputs": [],
   "source": [
    "embeddings = OpenAIEmbeddings(\n",
    "    model=EMBEDDING_MODEL,\n",
    "    openai_api_key=OPENAI_API_KEY, \n",
    "    dimensions=EMBEDDING_DIMENSIONS\n",
    ")"
   ]
  },
  {
   "cell_type": "markdown",
   "metadata": {},
   "source": [
    "### Vector Store"
   ]
  },
  {
   "cell_type": "code",
   "execution_count": 20,
   "metadata": {},
   "outputs": [],
   "source": [
    "vector_store = AzureSearch(\n",
    "    azure_search_endpoint=AZURE_SEARCH_ENDPOINT,\n",
    "    azure_search_key=AZURE_SEARCH_ADMIN_KEY,\n",
    "    index_name=SEARCH_INDEX_NAME,\n",
    "    embedding_function=embeddings.embed_query,\n",
    "    search_type=\"hybrid\"\n",
    ")"
   ]
  },
  {
   "cell_type": "code",
   "execution_count": null,
   "metadata": {},
   "outputs": [
    {
     "data": {
      "text/plain": [
       "[Document(metadata={'chunk_id': '52fc867f789a_7e37d055112566ce114ae3d34b4ec12f_pages_0', 'title': 'Microsoft Word - PoliMoodle-Inscricao-em-disciplina', 'parent_id': '7e37d055112566ce114ae3d34b4ec12f', 'last_modified': '09/14/2021 00:00:00 +00:00', 'keywords': 'tutoriais', '@search.score': 0.027756938710808754, '@search.reranker_score': None, '@search.highlights': None, '@search.captions': None}, page_content='STI Setor de Tecnologia da Informação \\nEscola Politécnica \\nUFRJ\\n\\nPoliMoodle – Inscrição em Disciplina\\n\\nSTI Poli UFRJ – http://www.sti.poli.ufrj.br – sti@poli.uftj.br V2020-08-19\\n\\nPara se inscrever como aluno em uma disciplina no PoliMoodle, você deve seguir os passos abaixo:\\n\\n1. Acesse o ambiente PoliMoodle (http://www.moodle.poli.ufrj.br), informando a sua conta e a sua senha.\\n\\n2. A área “Meus cursos” mostra as disciplinas que você está inscrito. Clique em \"Todos os cursos\" para se \\ninscrever em outras disciplinas.\\n\\n3. Na nova tela, você poderá navegar pelos Departamentos para ter acesso às disciplinas disponíveis.\\n\\nSTI Setor de Tecnologia da Informação \\nEscola Politécnica \\nUFRJ\\n\\nPoliMoodle – Inscrição em Disciplina\\n\\nSTI Poli UFRJ – http://www.sti.poli.ufrj.br – sti@poli.uftj.br V2020-08-19\\n\\nOutra forma para ter acesso às disciplinas disponíveis é utilizando o recurso de busca, no campo “Buscar por \\ncurso”. Digite a informação desejada e clique em “Vai” para realizar a busca.\\n\\n4. Como resultados da navegação ou do recurso de busca serão mostradas as disciplinas disponíveis. Clique na \\ndisciplina desejada.\\n\\nSTI Setor de Tecnologia da Informação \\nEscola Politécnica \\nUFRJ\\n\\nPoliMoodle – Inscrição em Disciplina\\n\\nSTI Poli UFRJ – http://www.sti.poli.ufrj.br – sti@poli.uftj.br V2020-08-19\\n\\n5. Após clicar na disciplina desejada, serão mostrados mais detalhes desta. Informe, no campo “Chave de \\ninscrição”, a chave de inscrição (senha) para realizar a sua autoinscrição nesta disciplina. Clique em “Inscreva-me” \\npara concluir o processo.'),\n",
       " Document(metadata={'chunk_id': '52fc867f789a_0c3109478349dab0d8c382b4b5687f6c_pages_12', 'title': None, 'parent_id': '0c3109478349dab0d8c382b4b5687f6c', 'last_modified': None, 'keywords': 'estudante,gaea gramio academico de engenharia ambiental', '@search.score': 0.020468948408961296, '@search.reranker_score': None, '@search.highlights': None, '@search.captions': None}, page_content='de abrir mais \\nvagas ou de fazer inscrição direta para a turma. Caso necessário, entre em contato \\ncom a coordenação do curso e ou a secretaria, em busca de uma solução. Os casos \\nmais graves são expulsões de disciplinas de ciclo básico, principalmente unificadas, \\npois são disciplinas que são pré-requisitos de muitas matérias do ciclo profissional. \\nNão deixe de fazer uma disciplina de ciclo básico porque foi expulso. \\nVocê pode acompanhar a sua inscrição na aba “Situação dos Pedidos”, quando a \\nmatéria estiver como “Normal” ou “Previsão Pendente” está tudo bem, mas se \\naparecer “Lotação Esgotada” você não conseguiu vaga. Esta situação sempre pode \\nmudar no decorrer do Período de Inscrição. \\nAlgumas semanas depois também ocorre o Período de Alteração. No mesmo, as suas \\ninscrições anteriores que foram efetivadas já estão garantidas, mas você poderá \\ntrancá-las ou se inscrever em outras que ainda possuem vagas.\\n\\n17\\n\\nGuia Ambiental\\xa0\\n\\nAntes de se inscrever em qualquer matéria sempre \\natente-se ao \\u200bcódigo \\u200bda disciplina. No link que colocamos com a Grade Curricular você \\npode ver o código de cada matéria e, ao final da página, quais códigos são \\nconsiderados equivalentes para a Engenharia Ambiental. Se você cursar uma matéria \\nque possui o mesmo nome que uma da grade, porém de código diferente (e que não é \\ndito como “equivalente”), ela não será considerada realizada, provavelmente entrará \\ncomo uma eletiva.\\n\\nPara decidir com quais professores cursar, você pode pedir ajuda a seus veteranos, \\nperguntar no grupo do Whatsapp “\\u200bInformes\\u200b”, que é para assuntos pertinentes do \\nnosso curso, ou jogar na lupa/postar no grupo do Facebook “\\u200bCT - Professores e \\nMatérias”\\u200b. \\nOutras dúvidas podem ser retiradas no canal do SIGA do Youtube: \\nhttps://www.youtube.com/channel/UCV-qXHAUa-rcblTYP-kZgCQ\\n\\nUnificadas \\nO que são as tão temidas Unificadas? \\nAs disciplinas unificadas são algumas das matérias comuns a todas a engenharias,'),\n",
       " Document(metadata={'chunk_id': '52fc867f789a_658c66608c6632a9f97b03fea1b23008_pages_6', 'title': 'INTRODUO', 'parent_id': '658c66608c6632a9f97b03fea1b23008', 'last_modified': '12/03/2010 00:00:00 +00:00', 'keywords': 'estudante,alteracoes de disciplinas', '@search.score': 0.017579682171344757, '@search.reranker_score': None, '@search.highlights': None, '@search.captions': None}, page_content='que o aluno não \\nconsegue se inscrever em mais de um terço de disciplinas fora do seu \\ncurrículo.\\n\\n10\\n\\nPALETA “TURMAS” PARA PESQUISA\\n\\n11\\n Depois de visualizar as turmas, é só marcar a caixinha à esquerda da \\ndisciplina e clicar no alto à direita em “ADICIONAR À INSCRIÇÃO”. A \\ndisciplina aparecerá na tela principal de pedidos e você pode clicar \\nnovamente em “TURMAS” para realizar nova pesquisa. Ao final da seleção \\nde novas disciplinas, clique em “ENVIAR” quando todos os seus pedidos \\nestiverem na tela principal. O SIGA imediatamente emitirá um \\nPROTOCOLO DE ENVIO DE PEDIDOS, que é uma espécie de recibo, \\natestando que seus PEDIDOS foram enviados com sucesso. LEMBRE-SE: \\nNESSE MOMENTO VOCÊ AINDA NÃO FEZ INSCRIÇÕES, MAS \\nAPENAS AS SOLICITOU, PODENDO OU NÃO TER SUCESSO NO SEU \\nPEDIDO.\\n\\nTELA DA PESQUISA DE TURMAS\\n\\nTELA PRINCIPAL DE PEDIDOS ANTES DO ENVIO\\n\\n12\\n\\n Dentro de todo o período de pedidos ou alteração é possível excluir a \\ndisciplina (como se fosse “recolher o pedido”), clicando no “X” do lado \\ndireito da tela, na linha da disciplina e clicando novamente em ENVIAR. \\nCaso você decida modificar um pedido e transferi-lo para outra turma da \\nmesma disciplina, é só clicar na seta do campo “TRANSFERIR” ao lado da \\ndata de inclusão que aparecerão as outras turmas disponíveis dessa mesma \\ndisciplina. Escolha uma e depois clique em “ENVIAR”.\\n\\nPROTOCOLO DE ENVIO DE PEDIDO (CRPID)\\n\\n13\\n\\n No protocolo (CRPID), as disciplinas poderão aparecer com algumas \\nmensagens de alerta, identificadas por uma letra maiúscula no campo \\n“SITUAÇÃO”. Isso NÃO SIGNIFICA que seu pedido não foi enviado e \\nessas mensagens também NÃO INTERFEREM no processo de alocação nas \\nturmas. São apenas indicativos de situações que precisam ser resolvidas para \\nque o professor não fique impossibilitado de lançar sua nota no final do \\nsemestre, pois seu nome desaparecerá da pauta final. As mensagens são:\\n\\nFalta de requisito (LETRA F): significa que o pré-requisito da disciplina não')]"
      ]
     },
     "execution_count": 16,
     "metadata": {},
     "output_type": "execute_result"
    }
   ],
   "source": [
    "# # Teste do vector store\n",
    "# docs = vector_store.hybrid_search(\n",
    "#     query=\"Como me inscrevo numa materia?\",\n",
    "#     k=3\n",
    "# )\n",
    "\n",
    "# docs"
   ]
  },
  {
   "cell_type": "code",
   "execution_count": null,
   "metadata": {},
   "outputs": [],
   "source": [
    "# retriever = AzureSearchVectorStoreRetriever(\n",
    "#     name=\"AzureSearchRetriever\",\n",
    "#     vectorstore=vector_store,\n",
    "#     search_type=\"hybrid\",\n",
    "#     k=3\n",
    "# )"
   ]
  },
  {
   "cell_type": "markdown",
   "metadata": {},
   "source": [
    "## RAG Agent"
   ]
  },
  {
   "cell_type": "code",
   "execution_count": 58,
   "metadata": {},
   "outputs": [],
   "source": [
    "# Incorporar persistência em memória\n",
    "memory = MemorySaver()"
   ]
  },
  {
   "cell_type": "code",
   "execution_count": null,
   "metadata": {},
   "outputs": [],
   "source": [
    "@tool(response_format=\"content_and_artifact\")\n",
    "def retriever_tool(query: str):\n",
    "    \"\"\"Busca e retorna informações relacionadas a questões acadêmicas ou institucionais sobre a Escola Politécnica da UFRJ.\"\"\"\n",
    "    retrieved_docs = vector_store.hybrid_search(query, k=3)\n",
    "    serialized = \"\\n\\n\".join(\n",
    "        (f\"Source: {doc.metadata}\\n\" f\"Content: {doc.page_content}\")\n",
    "        for doc in retrieved_docs\n",
    "    )\n",
    "    return serialized, retrieved_docs"
   ]
  },
  {
   "cell_type": "code",
   "execution_count": null,
   "metadata": {},
   "outputs": [],
   "source": [
    "tools = [retriever_tool]"
   ]
  },
  {
   "cell_type": "code",
   "execution_count": null,
   "metadata": {},
   "outputs": [],
   "source": [
    "agent_executor = create_react_agent(\n",
    "    model=llm, \n",
    "    tools=tools, \n",
    "    checkpointer=memory\n",
    ")"
   ]
  },
  {
   "cell_type": "code",
   "execution_count": 61,
   "metadata": {},
   "outputs": [
    {
     "name": "stdout",
     "output_type": "stream",
     "text": [
      "================================\u001b[1m Human Message \u001b[0m=================================\n",
      "\n",
      "A politecnica ja recebeu algum prêmio?\n",
      "==================================\u001b[1m Ai Message \u001b[0m==================================\n",
      "Tool Calls:\n",
      "  retrieve (call_3HgXJcKHuWDTMSqILiN2PAdQ)\n",
      " Call ID: call_3HgXJcKHuWDTMSqILiN2PAdQ\n",
      "  Args:\n",
      "    query: prêmios recebidos pela Escola Politécnica\n",
      "=================================\u001b[1m Tool Message \u001b[0m=================================\n",
      "Name: retrieve\n",
      "\n",
      "Source: {'chunk_id': 'e1ff2efac568_f602c08267838493473dce29662b965c_pages_0', 'parent_id': 'f602c08267838493473dce29662b965c', 'last_modified': '11/25/2022 00:00:00 +00:00', 'keywords': 'comunicacao,informativos', 'title': None, '@search.score': 0.021271489560604095, '@search.reranker_score': None, '@search.highlights': None, '@search.captions': None}\n",
      "Content: Estudantes da Escola Politécnica recebem premiação do \n",
      "Crea-RJ\n",
      "LEIA\n",
      "Governador do Rio sanciona projeto de lei de alunos da \n",
      "Politécnica-UFRJ \n",
      "LEIA\n",
      "Professor da Engenharia Naval recebe medalha “Amigo da \n",
      "Marinha”\n",
      "LEIA\n",
      "Evento do Labgn2 reúne cases de sucesso para inspirar \n",
      "novos empreendedores\n",
      "LEIA\n",
      "Alunos da Politécnica-UFRJ são premiados pela ABS\n",
      "LEIA\n",
      "ONG criada por ex-aluna é premiada pela Women of the \n",
      "Future Programme (WOF) e pela Unesco\n",
      "LEIA\n",
      "CoordCom | Politécnica - UFRJ\n",
      "Coordenadoria de Comunicação\n",
      "coordcom@poli.ufrj.br | www.poli.ufrj.br\n",
      "\n",
      "Source: {'chunk_id': '52fc867f789a_750df7fbd366d610e1b0d767ebb71865_pages_0', 'parent_id': '750df7fbd366d610e1b0d767ebb71865', 'last_modified': '07/30/2024 00:00:00 +00:00', 'keywords': 'comunicacao,informativos', 'title': None, '@search.score': 0.020458035171031952, '@search.reranker_score': None, '@search.highlights': None, '@search.captions': None}\n",
      "Content: ASME UFRJ recebe pela segunda vez consecutiva prêmio da \n",
      "Sociedade Norte-americana de Engenheiros Mecânicos (ASME)\n",
      "LEIA \n",
      "Edital da Faperj que incentiva participação feminina nas \n",
      "Engenharias contempla dois projetos da Escola Politécnica\n",
      "LEIA\n",
      "Professores e alunos de graduação da Escola Politécnica fazem \n",
      "apresentação de trabalhos a representantes do CERN durante \n",
      "visita à UFRJ\n",
      "LEIA\n",
      "Professor da Politécnica-UFRJ publica livro sobre Teoria e \n",
      "Modelos da Computação\n",
      "LEIA\n",
      "Colação de grau da Escola Politécnica forma novos engenheiros\n",
      "LEIA\n",
      "CoordCom | Politécnica - UFRJ\n",
      "Coordenadoria de Comunicação\n",
      "coordcom@poli.ufrj.br | www.poli.ufrj.br\n",
      "\n",
      "Source: {'chunk_id': '52fc867f789a_811225faeeea50ef4cefe6000b6cab95_pages_0', 'parent_id': '811225faeeea50ef4cefe6000b6cab95', 'last_modified': '12/20/2023 00:00:00 +00:00', 'keywords': 'noticia,retrospectiva 2023 confira as premiacoes que foram noticia', 'title': 'Retrospectiva 2023: confira as premiações que foram notícia\\xa0 - Politécnica UFRJ', '@search.score': 0.018817204982042313, '@search.reranker_score': None, '@search.highlights': None, '@search.captions': None}\n",
      "Content: Retrospectiva 2023: confira as premiações que foram notícia\n",
      "Os estudantes, professores e servidores da Escola Politécnica alcançaram importantes destaques e premiações em 2023. Seus conhecimentos e capacidades de solução de problemas, inovação e empreendedorismo foram colocados à prova.\n",
      "Docentes\n",
      "Os professores Cesar Camerini, Gabriela Pereira, Theodoro Antoun e discentes vinculados aos departamentos de Engenharia Metalúrgica e de Materiais, e Engenharia Naval e Oceânica, conquistaram o\n",
      "Prêmio Inventor Petrobras 2023\n",
      ".\n",
      "O professor Renato Machado Cotta do Departamento de Engenharia Mecânica recebeu o\n",
      "prêmio “Prof. Leonardo Goldstein Jr.”\n",
      ", concedido pela Associação Brasileira de Engenharia e Ciências Mecânicas (ABCM). A honraria é destinada a reconhecer docentes e pesquisadores por notáveis contribuições para o desenvolvimento da engenharia e ciências mecânicas no Brasil.\n",
      "O professor Eduardo Silva, do Departamento de Engenharia Eletrônica e de Computação, ganhou a\n",
      "ISO Excellence Awar\n",
      "d\n",
      ", em reconhecimento por seu excepcional envolvimento no comitê de padronização JPEG e as contribuições fundamentais para seus padrões com especial relevância por sua liderança no processo de padronização do JPEG Pleno Light Field Coding, notadamente a especificação ISO/IEC 21794-2:2021.\n",
      "O professor José Manoel de Seixas, do Departamento de Engenharia Eletrônica e de Computação, recebeu o Prêmio Excelência em Pesquisa, concedido pela\n",
      "Sociedade Brasileira de Inteligência Computacional (SBIC)\n",
      ".\n",
      "A professora do Departamento de Engenharia Nuclear Inayá Lima foi agraciada pelo almirante de esquadra Petronio Augusto Siqueira de Aguiar, da Diretoria-Geral de Desenvolvimento Nuclear e Tecnológico da Marinha, com a\n",
      "medalha “\n",
      "Amigo da Marinha”\n",
      ", honraria destinada a reconhecer os serviços de colaboração prestados por personalidades civis. A cerimônia aconteceu na sede do 8º Distrito Naval (COM8DN).\n",
      "Discentes\n",
      "O XI Prêmio Crea-RJ de Trabalhos Científicos e Tecnológicos\n",
      "==================================\u001b[1m Ai Message \u001b[0m==================================\n",
      "\n",
      "A Escola Politécnica da UFRJ já recebeu diversos prêmios e reconhecimentos ao longo dos anos. Alguns exemplos incluem:\n",
      "\n",
      "1. **Prêmios para Estudantes e Professores:**\n",
      "   - Estudantes da Escola Politécnica foram premiados pelo Crea-RJ.\n",
      "   - Alunos da Politécnica-UFRJ receberam prêmios da ABS.\n",
      "   - Professores e discentes dos departamentos de Engenharia Metalúrgica e de Materiais, e Engenharia Naval e Oceânica, conquistaram o Prêmio Inventor Petrobras 2023.\n",
      "\n",
      "2. **Prêmios para Professores:**\n",
      "   - O professor Renato Machado Cotta recebeu o prêmio “Prof. Leonardo Goldstein Jr.” da Associação Brasileira de Engenharia e Ciências Mecânicas (ABCM).\n",
      "   - O professor Eduardo Silva ganhou o ISO Excellence Award por seu envolvimento no comitê de padronização JPEG.\n",
      "   - O professor José Manoel de Seixas recebeu o Prêmio Excelência em Pesquisa da Sociedade Brasileira de Inteligência Computacional (SBIC).\n",
      "   - A professora Inayá Lima foi agraciada com a medalha “Amigo da Marinha” pela Diretoria-Geral de Desenvolvimento Nuclear e Tecnológico da Marinha.\n",
      "\n",
      "3. **Outros Reconhecimentos:**\n",
      "   - A ASME UFRJ recebeu, pela segunda vez consecutiva, um prêmio da Sociedade Norte-americana de Engenheiros Mecânicos (ASME).\n",
      "   - Projetos da Escola Politécnica foram contemplados por um edital da Faperj que incentiva a participação feminina nas Engenharias.\n",
      "\n",
      "Esses prêmios refletem o reconhecimento da excelência acadêmica e de pesquisa da Escola Politécnica em diversas áreas de engenharia e tecnologia.\n"
     ]
    }
   ],
   "source": [
    "config = {\"configurable\": {\"thread_id\": \"def234\"}}\n",
    "\n",
    "input_message = (\n",
    "    \"A politecnica ja recebeu algum prêmio?\"\n",
    ")\n",
    "\n",
    "for event in agent_executor.stream(\n",
    "    {\"messages\": [{\"role\": \"user\", \"content\": input_message}]},\n",
    "    stream_mode=\"values\",\n",
    "    config=config,\n",
    "):\n",
    "    event[\"messages\"][-1].pretty_print()"
   ]
  },
  {
   "cell_type": "code",
   "execution_count": 56,
   "metadata": {},
   "outputs": [],
   "source": [
    "memory.get(config=config)"
   ]
  },
  {
   "cell_type": "markdown",
   "metadata": {},
   "source": [
    "---"
   ]
  },
  {
   "cell_type": "markdown",
   "metadata": {},
   "source": [
    "## Testes com Agente "
   ]
  },
  {
   "cell_type": "code",
   "execution_count": 21,
   "metadata": {},
   "outputs": [],
   "source": [
    "retriever = AzureSearchVectorStoreRetriever(\n",
    "    name=\"AzureSearchRetriever\",\n",
    "    vectorstore=vector_store,\n",
    "    search_type=\"hybrid\",\n",
    "    k=3\n",
    ")"
   ]
  },
  {
   "cell_type": "code",
   "execution_count": 83,
   "metadata": {},
   "outputs": [],
   "source": [
    "memory = MemorySaver()"
   ]
  },
  {
   "cell_type": "code",
   "execution_count": 23,
   "metadata": {},
   "outputs": [],
   "source": [
    "from langchain.tools.retriever import create_retriever_tool\n",
    "\n",
    "retriever_tool = create_retriever_tool(\n",
    "    retriever = retriever,\n",
    "    name = \"buscar_poli_info\",\n",
    "    description = \"Busca e retorna informações relacionadas a questões acadêmicas ou institucionais sobre a Escola Politécnica da UFRJ.\",\n",
    ")\n",
    "\n",
    "tools = [retriever_tool]"
   ]
  },
  {
   "cell_type": "code",
   "execution_count": 84,
   "metadata": {},
   "outputs": [],
   "source": [
    "from langchain_core.messages import SystemMessage\n",
    "from langgraph.prebuilt import create_react_agent\n",
    "\n",
    "system_message = SystemMessage(\n",
    "    content=\"\"\"\n",
    "    Você é o PoliGPT, um assistente virtual da Escola Politécnica da Universidade Federal do Rio de Janeiro (UFRJ), que auxilia alunos, professores, funcionários e outros interessados \n",
    "    em questões acadêmicas e institucionais relacionadas à Escola Politécnica, além de conhecimentos gerais. Quaisquer perguntas relacionadas à área acadêmica feitas pelo\n",
    "    usuário devem ser por padrão consideradas como referentes à Escola Politécnica, a não ser que seja explicitamente dito o contrário. Caso não tenha informações suficientes \n",
    "    para responder à pergunta, diga que não sabe. Responda sempre na mesma língua usada pelo usuário; caso não seja possível reconhecer a língua, use português.\n",
    "    \"\"\"\n",
    ")\n",
    "\n",
    "agent_executor = create_react_agent(\n",
    "    model=llm, \n",
    "    tools=tools, \n",
    "    state_modifier=system_message,\n",
    "    checkpointer=memory\n",
    ")\n",
    "agent_executor.step_timeout = 10"
   ]
  },
  {
   "cell_type": "code",
   "execution_count": null,
   "metadata": {},
   "outputs": [],
   "source": [
    "query = \"Meu nome é Barbara.\"\n",
    "\n",
    "config = {\"configurable\": {\"thread_id\": \"test-thread\"}}\n",
    "messages = agent_executor.invoke(input={\"messages\": [(\"user\", query)]}, config=config)"
   ]
  },
  {
   "cell_type": "code",
   "execution_count": 45,
   "metadata": {},
   "outputs": [
    {
     "name": "stdout",
     "output_type": "stream",
     "text": [
      "Prazer em conhecê-la, Barbara! Como posso ajudar você hoje?\n"
     ]
    }
   ],
   "source": [
    "print(messages[\"messages\"][-1].content)"
   ]
  },
  {
   "cell_type": "markdown",
   "metadata": {},
   "source": [
    "---"
   ]
  },
  {
   "cell_type": "code",
   "execution_count": 85,
   "metadata": {},
   "outputs": [],
   "source": [
    "from langchain_core.messages import trim_messages\n",
    "from langchain_core.messages import AIMessage, HumanMessage, SystemMessage\n",
    "\n",
    "chat_history = [\n",
    "    system_message,\n",
    "    HumanMessage(content=\"Oi! Meu nome é Julia.\"),\n",
    "    AIMessage(content=\"Ola!\"),\n",
    "    HumanMessage(content=\"Como voce esta?\"),\n",
    "    AIMessage(content=\"Bem, obrigado!\"),\n",
    "]\n",
    "\n",
    "trimmed_history = trim_messages(\n",
    "    chat_history,\n",
    "    strategy=\"last\",\n",
    "    token_counter=llm,\n",
    "    max_tokens=180,\n",
    "    start_on=\"human\",\n",
    "    end_on=\"ai\",\n",
    "    include_system=True,\n",
    "    allow_partial=False\n",
    ")"
   ]
  },
  {
   "cell_type": "code",
   "execution_count": 90,
   "metadata": {},
   "outputs": [
    {
     "name": "stdout",
     "output_type": "stream",
     "text": [
      "Aqui estão algumas notícias recentes sobre a Escola Politécnica da UFRJ:\n",
      "\n",
      "1. **PetroTeam da Politécnica-UFRJ é bicampeão do Petrobowl Championship**: Estudantes do curso de Engenharia de Petróleo conquistaram o 1º lugar no Petrobowl Championship.\n",
      "\n",
      "2. **Nova diretoria do Clube de Engenharia para triênio 2024/2027 toma posse**: A nova diretoria eleita para o triênio 2024-2027 do Clube de Engenharia tomou posse recentemente.\n",
      "\n",
      "3. **Professor da Politécnica participa de evento global sobre proteção contra raios**: O professor Antonio Carlos Siqueira de Lima do Departamento de Engenharia Elétrica participou de um importante evento global dedicado à ciência e tecnologia de proteção contra raios.\n",
      "\n",
      "4. **Medalha de ouro nos Jogos Universitários Brasileiros**: O aluno Lucas Elbert do curso de Engenharia Eletrônica e Computação conquistou medalha de ouro durante a edição praia dos Jogos Universitários Brasileiros.\n",
      "\n",
      "5. **Minerva Náutica fica entre as cinco melhores equipes em competição nacional**: A equipe de nautimodelismo da Escola Politécnica, Minerva Náutica, garantiu o quarto lugar em uma competição nacional.\n",
      "\n",
      "Se precisar de mais informações sobre algum desses tópicos, é só me avisar!\n"
     ]
    }
   ],
   "source": [
    "query = \"Tem noticias relevantes recentes sobre a escola politecnica?\"\n",
    "\n",
    "chat_messages = trimmed_history + [HumanMessage(content=query)]\n",
    "\n",
    "config = {\"configurable\": {\"thread_id\": \"test-thread-2\"}}\n",
    "\n",
    "messages = agent_executor.invoke(\n",
    "    input={\"messages\": chat_messages}, \n",
    "    config=config\n",
    ")\n",
    "\n",
    "print(messages[\"messages\"][-1].content)"
   ]
  },
  {
   "cell_type": "code",
   "execution_count": 91,
   "metadata": {},
   "outputs": [
    {
     "data": {
      "text/plain": [
       "{'messages': [SystemMessage(content='\\n    Você é o PoliGPT, um assistente virtual da Escola Politécnica da Universidade Federal do Rio de Janeiro (UFRJ), que auxilia alunos, professores, funcionários e outros interessados \\n    em questões acadêmicas e institucionais relacionadas à Escola Politécnica, além de conhecimentos gerais. Quaisquer perguntas relacionadas à área acadêmica feitas pelo\\n    usuário devem ser por padrão consideradas como referentes à Escola Politécnica, a não ser que seja explicitamente dito o contrário. Caso não tenha informações suficientes \\n    para responder à pergunta, diga que não sabe. Responda sempre na mesma língua usada pelo usuário; caso não seja possível reconhecer a língua, use português.\\n    ', additional_kwargs={}, response_metadata={}, id='fe17a7db-b9b0-4b03-8430-8b3dcac01dfe'),\n",
       "  HumanMessage(content='Oi! Meu nome é Julia.', additional_kwargs={}, response_metadata={}, id='04862b72-363e-416d-a7b4-66df9576862a'),\n",
       "  AIMessage(content='Ola!', additional_kwargs={}, response_metadata={}, id='c489d3b5-4b31-47b6-a6fc-cd7e54b4fb18'),\n",
       "  HumanMessage(content='Como voce esta?', additional_kwargs={}, response_metadata={}, id='29bb4797-82d7-4ed3-b250-d8d857e72bf7'),\n",
       "  AIMessage(content='Bem, obrigado!', additional_kwargs={}, response_metadata={}, id='093ce2d0-2aea-44a1-921f-54e8f12e43b6'),\n",
       "  HumanMessage(content='Qual sua cor favorita?', additional_kwargs={}, response_metadata={}, id='1e58ed6a-e68c-45f2-b342-7aae00f99937'),\n",
       "  AIMessage(content='Eu não tenho preferências pessoais ou emoções, mas estou aqui para ajudar você com qualquer dúvida que tenha!', additional_kwargs={}, response_metadata={'finish_reason': 'stop', 'model_name': 'gpt-4o-2024-08-06', 'system_fingerprint': 'fp_9faba9f038'}, id='run-966e79f6-2008-4732-b882-7b83e1d9e5bb-0'),\n",
       "  HumanMessage(content='O que vc acha da UFRJ?', additional_kwargs={}, response_metadata={}, id='b6c905fc-36df-49b4-b857-b83d98060ed7'),\n",
       "  AIMessage(content='A UFRJ é uma das universidades mais renomadas do Brasil, conhecida por sua excelência acadêmica, pesquisa de ponta e contribuição significativa para a sociedade. A Escola Politécnica, em particular, é reconhecida por formar engenheiros altamente qualificados em diversas áreas. Se você tiver perguntas específicas sobre a UFRJ ou a Escola Politécnica, estou aqui para ajudar!', additional_kwargs={}, response_metadata={'finish_reason': 'stop', 'model_name': 'gpt-4o-2024-08-06', 'system_fingerprint': 'fp_9faba9f038'}, id='run-3fecfd9c-6783-45ff-9777-6addef3d23db-0'),\n",
       "  HumanMessage(content='Tem noticias relevantes recentes sobre a escola politecnica?', additional_kwargs={}, response_metadata={}, id='922206ba-a007-47a0-9992-cdb0e03c7922'),\n",
       "  AIMessage(content='', additional_kwargs={'tool_calls': [{'index': 0, 'id': 'call_SEJ5v4rJdPYdrsDrsNsLHdgJ', 'function': {'arguments': '{\"query\":\"notícias recentes\"}', 'name': 'buscar_poli_info'}, 'type': 'function'}]}, response_metadata={'finish_reason': 'tool_calls', 'model_name': 'gpt-4o-2024-08-06', 'system_fingerprint': 'fp_9faba9f038'}, id='run-ff68c59b-0c0c-41ef-a323-b0550d15636e-0', tool_calls=[{'name': 'buscar_poli_info', 'args': {'query': 'notícias recentes'}, 'id': 'call_SEJ5v4rJdPYdrsDrsNsLHdgJ', 'type': 'tool_call'}]),\n",
       "  ToolMessage(content='falou sobre o derramamento de óleo no \\nNordeste na BandNews FM e em reportagem do jornal O \\nGlobo.\\n Os portais Portos e Navios e Petro Notícias destacaram a \\npremiação dos alunos da Poli no VIII Prêmio CREA-RJ de \\nTrabalhos Científicos e Tecnológicos.\\n\\nComunicação\\nNotícias\\nNotícias\\nPetroTeam da Politécnica-UFRJ é bicampeão do Petrobowl Championship\\nEstudantes do curso de Engenharia de Petróleo da Escola Politécnica da UFRJ conquistaram o 1º...\\nNotícias\\nNova diretoria do Clube de Engenharia para triênio 2024/2027 toma posse\\nOntem (9/9), a nova diretoria eleita para o triênio 2024-2027 do Clube de Engenharia tomou...\\nNotícias\\nProfessor da Politécnica participa de principal evento global dedicado ao avanço da ciência e tecnologia de proteção contra raios\\nO professor Antonio Carlos Siqueira de Lima do Departamento de Engenharia Elétrica da Escola Politécnica...\\nNotícias\\nEscola Politécnica conquista medalha de ouro durante edição praia dos Jogos Universitários Brasileiros\\nO aluno Lucas Elbert do curso de Engenharia Eletrônica e Computação da Escola Politécnica da...\\nMinerva Náutica fica entre as cinco melhores equipes em competição nacional\\nA equipe de nautimodelismo da Escola Politécnica da UFRJ, a Minerva Náutica, garantiu o quarto...\\nProfessores da Escola Politécnica são contemplados pelos editais Cientistas e Jovens Cientistas do Nosso Estado\\nFoi divulgado no último dia 25 de julho, o resultado preliminar dos editais Cientista do...\\nNotícias\\nIntegrante da Enactus UFRJ chega ao Top 10 do Programa de Jovens Talentos da Enactus Brasil\\nSob coordenação da professora Alice Ferruccio da Escola Politécnica da UFRJ, a Enactus UFRJ –...\\nNotícias\\nEquipes de competição da Escola Politécnica marcaram presença no Rio Innovation Week\\nSeis equipes de competição vinculadas à Escola Politécnica da UFRJ participaram do Rio Innovation Week,...\\nNotícias\\nIntercambistas participam de atividade de integração na Politécnica-UFRJ\\nA Escola Politécnica da UFRJ, através da Diretoria Adjunta de Relações Internacionais e do Interpoli...\\nNotícias\\nUFRJ recebe pela primeira vez workshop sobre recuperação de informação musical latino-americana\\nEstá aberto até o dia 20 de setembro o período de submissão de trabalhos para...\\nNotícias\\nProfª.\\n\\nComunicação\\nNa imprensa\\nAnálises de laboratório vão indicar reabertura de aeroporto no RS\\nMetrópoles | 24/06/2024\\nCarros elétricos: Brasil tem carta na manga para fazer diferente e melhor\\nOlhar Digital | 17/06/2024\\nGoverno do RS prevê que reconstrução de áreas atingidas pelas enchentes demore 1 ano\\nJornal Hoje (TV Globo) | 03/06/2024\\nMunicípios do Rio terão projeto piloto contra tragédias climáticas com investimento de US$ 1,3 milhão\\nO Globo | 28/05/2024\\nEscola Pública em Magé transforma lixo orgânico em energia limpa\\nFolha de S. Paulo | 26/05/2024\\nMais de 1 milhão de casas no Rio estão em áreas de alto risco para inundações, segundo estudo\\nO Globo | 14/05/2024\\nRetomada das obras do Projeto Iguaçu ainda não saiu do papel\\nRJTV (TV Globo) | 08/05/2024\\nDesastre no RS\\nAgência Brasil | 06/05/2024\\nEm grandes cidades, deslocamento é drama diário para trabalhador\\nAgência Brasil | 01/05/2024\\nEscola Politécnica da UFRJ é declarada patrimônio do Rio\\nTV Alerj | 25/04/2024\\nEscola Politécnica da UFRJ é declarada patrimônio do Rio\\nAgência Brasil | 15/04/2024\\nEscola Politécnica da UFRJ é declarada patrimônio do Rio\\nO Globo | 15/04/2024\\nNível de tolueno em água que abastece sistema Imunana-Laranjal chegou a ser sete vezes maior que o permitido\\nCBN | 06/04/2024\\nReservas provadas de petróleo\\nAgência Brasil | 02/04/2024\\nColapso de ponte em Baltimore era evitável após colisão? Engenheiro comenta\\nTerra | 26/03/2024\\nEntenda como a chuva provoca deslizamentos e desmoronamentos\\nAgência Brasil | 24/03/2024\\nChuvas no RJ\\nCBN | 23/03/2024\\nSoluções para enfrentar a escassez hídrica\\nUm só planeta (Ed. Globo) | 22/03/2024\\nCientistas desenvolvem impressão 3D sustentável e multicolorida\\nCorreio Braziliense | 11/03/2024\\nAula inaugural da pós-graduação\\nO Dia | 07/03/2024\\nEntenda o que contribui para as enchentes na Baixada\\nRJTV (TV Globo) | 22/02/2024', name='buscar_poli_info', id='b2b6251c-ccdd-49d2-90bd-ddf9f02cd97b', tool_call_id='call_SEJ5v4rJdPYdrsDrsNsLHdgJ'),\n",
       "  AIMessage(content='Aqui estão algumas notícias recentes sobre a Escola Politécnica da UFRJ:\\n\\n1. **PetroTeam da Politécnica-UFRJ é bicampeão do Petrobowl Championship**: Estudantes do curso de Engenharia de Petróleo conquistaram o 1º lugar no Petrobowl Championship.\\n\\n2. **Nova diretoria do Clube de Engenharia para triênio 2024/2027 toma posse**: A nova diretoria eleita para o triênio 2024-2027 do Clube de Engenharia tomou posse recentemente.\\n\\n3. **Professor da Politécnica participa de evento global sobre proteção contra raios**: O professor Antonio Carlos Siqueira de Lima do Departamento de Engenharia Elétrica participou de um importante evento global dedicado à ciência e tecnologia de proteção contra raios.\\n\\n4. **Medalha de ouro nos Jogos Universitários Brasileiros**: O aluno Lucas Elbert do curso de Engenharia Eletrônica e Computação conquistou medalha de ouro durante a edição praia dos Jogos Universitários Brasileiros.\\n\\n5. **Minerva Náutica fica entre as cinco melhores equipes em competição nacional**: A equipe de nautimodelismo da Escola Politécnica, Minerva Náutica, garantiu o quarto lugar em uma competição nacional.\\n\\nSe precisar de mais informações sobre algum desses tópicos, é só me avisar!', additional_kwargs={}, response_metadata={'finish_reason': 'stop', 'model_name': 'gpt-4o-2024-08-06', 'system_fingerprint': 'fp_9faba9f038'}, id='run-f998e7fd-6f02-47e9-b1e3-2808118b7557-0')]}"
      ]
     },
     "execution_count": 91,
     "metadata": {},
     "output_type": "execute_result"
    }
   ],
   "source": [
    "messages"
   ]
  },
  {
   "cell_type": "code",
   "execution_count": 92,
   "metadata": {},
   "outputs": [
    {
     "data": {
      "text/plain": [
       "StateSnapshot(values={'messages': [SystemMessage(content='\\n    Você é o PoliGPT, um assistente virtual da Escola Politécnica da Universidade Federal do Rio de Janeiro (UFRJ), que auxilia alunos, professores, funcionários e outros interessados \\n    em questões acadêmicas e institucionais relacionadas à Escola Politécnica, além de conhecimentos gerais. Quaisquer perguntas relacionadas à área acadêmica feitas pelo\\n    usuário devem ser por padrão consideradas como referentes à Escola Politécnica, a não ser que seja explicitamente dito o contrário. Caso não tenha informações suficientes \\n    para responder à pergunta, diga que não sabe. Responda sempre na mesma língua usada pelo usuário; caso não seja possível reconhecer a língua, use português.\\n    ', additional_kwargs={}, response_metadata={}, id='fe17a7db-b9b0-4b03-8430-8b3dcac01dfe'), HumanMessage(content='Oi! Meu nome é Julia.', additional_kwargs={}, response_metadata={}, id='04862b72-363e-416d-a7b4-66df9576862a'), AIMessage(content='Ola!', additional_kwargs={}, response_metadata={}, id='c489d3b5-4b31-47b6-a6fc-cd7e54b4fb18'), HumanMessage(content='Como voce esta?', additional_kwargs={}, response_metadata={}, id='29bb4797-82d7-4ed3-b250-d8d857e72bf7'), AIMessage(content='Bem, obrigado!', additional_kwargs={}, response_metadata={}, id='093ce2d0-2aea-44a1-921f-54e8f12e43b6'), HumanMessage(content='Qual sua cor favorita?', additional_kwargs={}, response_metadata={}, id='1e58ed6a-e68c-45f2-b342-7aae00f99937'), AIMessage(content='Eu não tenho preferências pessoais ou emoções, mas estou aqui para ajudar você com qualquer dúvida que tenha!', additional_kwargs={}, response_metadata={'finish_reason': 'stop', 'model_name': 'gpt-4o-2024-08-06', 'system_fingerprint': 'fp_9faba9f038'}, id='run-966e79f6-2008-4732-b882-7b83e1d9e5bb-0'), HumanMessage(content='O que vc acha da UFRJ?', additional_kwargs={}, response_metadata={}, id='b6c905fc-36df-49b4-b857-b83d98060ed7'), AIMessage(content='A UFRJ é uma das universidades mais renomadas do Brasil, conhecida por sua excelência acadêmica, pesquisa de ponta e contribuição significativa para a sociedade. A Escola Politécnica, em particular, é reconhecida por formar engenheiros altamente qualificados em diversas áreas. Se você tiver perguntas específicas sobre a UFRJ ou a Escola Politécnica, estou aqui para ajudar!', additional_kwargs={}, response_metadata={'finish_reason': 'stop', 'model_name': 'gpt-4o-2024-08-06', 'system_fingerprint': 'fp_9faba9f038'}, id='run-3fecfd9c-6783-45ff-9777-6addef3d23db-0'), HumanMessage(content='Tem noticias relevantes recentes sobre a escola politecnica?', additional_kwargs={}, response_metadata={}, id='922206ba-a007-47a0-9992-cdb0e03c7922'), AIMessage(content='', additional_kwargs={'tool_calls': [{'index': 0, 'id': 'call_SEJ5v4rJdPYdrsDrsNsLHdgJ', 'function': {'arguments': '{\"query\":\"notícias recentes\"}', 'name': 'buscar_poli_info'}, 'type': 'function'}]}, response_metadata={'finish_reason': 'tool_calls', 'model_name': 'gpt-4o-2024-08-06', 'system_fingerprint': 'fp_9faba9f038'}, id='run-ff68c59b-0c0c-41ef-a323-b0550d15636e-0', tool_calls=[{'name': 'buscar_poli_info', 'args': {'query': 'notícias recentes'}, 'id': 'call_SEJ5v4rJdPYdrsDrsNsLHdgJ', 'type': 'tool_call'}]), ToolMessage(content='falou sobre o derramamento de óleo no \\nNordeste na BandNews FM e em reportagem do jornal O \\nGlobo.\\n Os portais Portos e Navios e Petro Notícias destacaram a \\npremiação dos alunos da Poli no VIII Prêmio CREA-RJ de \\nTrabalhos Científicos e Tecnológicos.\\n\\nComunicação\\nNotícias\\nNotícias\\nPetroTeam da Politécnica-UFRJ é bicampeão do Petrobowl Championship\\nEstudantes do curso de Engenharia de Petróleo da Escola Politécnica da UFRJ conquistaram o 1º...\\nNotícias\\nNova diretoria do Clube de Engenharia para triênio 2024/2027 toma posse\\nOntem (9/9), a nova diretoria eleita para o triênio 2024-2027 do Clube de Engenharia tomou...\\nNotícias\\nProfessor da Politécnica participa de principal evento global dedicado ao avanço da ciência e tecnologia de proteção contra raios\\nO professor Antonio Carlos Siqueira de Lima do Departamento de Engenharia Elétrica da Escola Politécnica...\\nNotícias\\nEscola Politécnica conquista medalha de ouro durante edição praia dos Jogos Universitários Brasileiros\\nO aluno Lucas Elbert do curso de Engenharia Eletrônica e Computação da Escola Politécnica da...\\nMinerva Náutica fica entre as cinco melhores equipes em competição nacional\\nA equipe de nautimodelismo da Escola Politécnica da UFRJ, a Minerva Náutica, garantiu o quarto...\\nProfessores da Escola Politécnica são contemplados pelos editais Cientistas e Jovens Cientistas do Nosso Estado\\nFoi divulgado no último dia 25 de julho, o resultado preliminar dos editais Cientista do...\\nNotícias\\nIntegrante da Enactus UFRJ chega ao Top 10 do Programa de Jovens Talentos da Enactus Brasil\\nSob coordenação da professora Alice Ferruccio da Escola Politécnica da UFRJ, a Enactus UFRJ –...\\nNotícias\\nEquipes de competição da Escola Politécnica marcaram presença no Rio Innovation Week\\nSeis equipes de competição vinculadas à Escola Politécnica da UFRJ participaram do Rio Innovation Week,...\\nNotícias\\nIntercambistas participam de atividade de integração na Politécnica-UFRJ\\nA Escola Politécnica da UFRJ, através da Diretoria Adjunta de Relações Internacionais e do Interpoli...\\nNotícias\\nUFRJ recebe pela primeira vez workshop sobre recuperação de informação musical latino-americana\\nEstá aberto até o dia 20 de setembro o período de submissão de trabalhos para...\\nNotícias\\nProfª.\\n\\nComunicação\\nNa imprensa\\nAnálises de laboratório vão indicar reabertura de aeroporto no RS\\nMetrópoles | 24/06/2024\\nCarros elétricos: Brasil tem carta na manga para fazer diferente e melhor\\nOlhar Digital | 17/06/2024\\nGoverno do RS prevê que reconstrução de áreas atingidas pelas enchentes demore 1 ano\\nJornal Hoje (TV Globo) | 03/06/2024\\nMunicípios do Rio terão projeto piloto contra tragédias climáticas com investimento de US$ 1,3 milhão\\nO Globo | 28/05/2024\\nEscola Pública em Magé transforma lixo orgânico em energia limpa\\nFolha de S. Paulo | 26/05/2024\\nMais de 1 milhão de casas no Rio estão em áreas de alto risco para inundações, segundo estudo\\nO Globo | 14/05/2024\\nRetomada das obras do Projeto Iguaçu ainda não saiu do papel\\nRJTV (TV Globo) | 08/05/2024\\nDesastre no RS\\nAgência Brasil | 06/05/2024\\nEm grandes cidades, deslocamento é drama diário para trabalhador\\nAgência Brasil | 01/05/2024\\nEscola Politécnica da UFRJ é declarada patrimônio do Rio\\nTV Alerj | 25/04/2024\\nEscola Politécnica da UFRJ é declarada patrimônio do Rio\\nAgência Brasil | 15/04/2024\\nEscola Politécnica da UFRJ é declarada patrimônio do Rio\\nO Globo | 15/04/2024\\nNível de tolueno em água que abastece sistema Imunana-Laranjal chegou a ser sete vezes maior que o permitido\\nCBN | 06/04/2024\\nReservas provadas de petróleo\\nAgência Brasil | 02/04/2024\\nColapso de ponte em Baltimore era evitável após colisão? Engenheiro comenta\\nTerra | 26/03/2024\\nEntenda como a chuva provoca deslizamentos e desmoronamentos\\nAgência Brasil | 24/03/2024\\nChuvas no RJ\\nCBN | 23/03/2024\\nSoluções para enfrentar a escassez hídrica\\nUm só planeta (Ed. Globo) | 22/03/2024\\nCientistas desenvolvem impressão 3D sustentável e multicolorida\\nCorreio Braziliense | 11/03/2024\\nAula inaugural da pós-graduação\\nO Dia | 07/03/2024\\nEntenda o que contribui para as enchentes na Baixada\\nRJTV (TV Globo) | 22/02/2024', name='buscar_poli_info', id='b2b6251c-ccdd-49d2-90bd-ddf9f02cd97b', tool_call_id='call_SEJ5v4rJdPYdrsDrsNsLHdgJ'), AIMessage(content='Aqui estão algumas notícias recentes sobre a Escola Politécnica da UFRJ:\\n\\n1. **PetroTeam da Politécnica-UFRJ é bicampeão do Petrobowl Championship**: Estudantes do curso de Engenharia de Petróleo conquistaram o 1º lugar no Petrobowl Championship.\\n\\n2. **Nova diretoria do Clube de Engenharia para triênio 2024/2027 toma posse**: A nova diretoria eleita para o triênio 2024-2027 do Clube de Engenharia tomou posse recentemente.\\n\\n3. **Professor da Politécnica participa de evento global sobre proteção contra raios**: O professor Antonio Carlos Siqueira de Lima do Departamento de Engenharia Elétrica participou de um importante evento global dedicado à ciência e tecnologia de proteção contra raios.\\n\\n4. **Medalha de ouro nos Jogos Universitários Brasileiros**: O aluno Lucas Elbert do curso de Engenharia Eletrônica e Computação conquistou medalha de ouro durante a edição praia dos Jogos Universitários Brasileiros.\\n\\n5. **Minerva Náutica fica entre as cinco melhores equipes em competição nacional**: A equipe de nautimodelismo da Escola Politécnica, Minerva Náutica, garantiu o quarto lugar em uma competição nacional.\\n\\nSe precisar de mais informações sobre algum desses tópicos, é só me avisar!', additional_kwargs={}, response_metadata={'finish_reason': 'stop', 'model_name': 'gpt-4o-2024-08-06', 'system_fingerprint': 'fp_9faba9f038'}, id='run-f998e7fd-6f02-47e9-b1e3-2808118b7557-0')]}, next=(), config={'configurable': {'thread_id': 'test-thread-2', 'checkpoint_ns': '', 'checkpoint_id': '1efbb4af-20ad-6c81-8009-a872c370f0e6'}}, metadata={'source': 'loop', 'writes': {'agent': {'messages': [AIMessage(content='Aqui estão algumas notícias recentes sobre a Escola Politécnica da UFRJ:\\n\\n1. **PetroTeam da Politécnica-UFRJ é bicampeão do Petrobowl Championship**: Estudantes do curso de Engenharia de Petróleo conquistaram o 1º lugar no Petrobowl Championship.\\n\\n2. **Nova diretoria do Clube de Engenharia para triênio 2024/2027 toma posse**: A nova diretoria eleita para o triênio 2024-2027 do Clube de Engenharia tomou posse recentemente.\\n\\n3. **Professor da Politécnica participa de evento global sobre proteção contra raios**: O professor Antonio Carlos Siqueira de Lima do Departamento de Engenharia Elétrica participou de um importante evento global dedicado à ciência e tecnologia de proteção contra raios.\\n\\n4. **Medalha de ouro nos Jogos Universitários Brasileiros**: O aluno Lucas Elbert do curso de Engenharia Eletrônica e Computação conquistou medalha de ouro durante a edição praia dos Jogos Universitários Brasileiros.\\n\\n5. **Minerva Náutica fica entre as cinco melhores equipes em competição nacional**: A equipe de nautimodelismo da Escola Politécnica, Minerva Náutica, garantiu o quarto lugar em uma competição nacional.\\n\\nSe precisar de mais informações sobre algum desses tópicos, é só me avisar!', additional_kwargs={}, response_metadata={'finish_reason': 'stop', 'model_name': 'gpt-4o-2024-08-06', 'system_fingerprint': 'fp_9faba9f038'}, id='run-f998e7fd-6f02-47e9-b1e3-2808118b7557-0')]}}, 'thread_id': 'test-thread-2', 'step': 9, 'parents': {}}, created_at='2024-12-16T01:13:23.454681+00:00', parent_config={'configurable': {'thread_id': 'test-thread-2', 'checkpoint_ns': '', 'checkpoint_id': '1efbb4af-0160-6b22-8008-bf12ac45fbb3'}}, tasks=())"
      ]
     },
     "execution_count": 92,
     "metadata": {},
     "output_type": "execute_result"
    }
   ],
   "source": [
    "agent_executor.get_state(config=config)"
   ]
  }
 ],
 "metadata": {
  "kernelspec": {
   "display_name": ".venv",
   "language": "python",
   "name": "python3"
  },
  "language_info": {
   "codemirror_mode": {
    "name": "ipython",
    "version": 3
   },
   "file_extension": ".py",
   "mimetype": "text/x-python",
   "name": "python",
   "nbconvert_exporter": "python",
   "pygments_lexer": "ipython3",
   "version": "3.11.3"
  }
 },
 "nbformat": 4,
 "nbformat_minor": 2
}

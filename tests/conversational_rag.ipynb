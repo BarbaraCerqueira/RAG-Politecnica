{
 "cells": [
  {
   "cell_type": "markdown",
   "metadata": {},
   "source": [
    "# PoliGPT - Conversação RAG"
   ]
  },
  {
   "cell_type": "code",
   "execution_count": 1,
   "metadata": {},
   "outputs": [],
   "source": [
    "import os\n",
    "\n",
    "os.environ[\"AZURESEARCH_FIELDS_ID\"] = \"chunk_id\"\n",
    "os.environ[\"AZURESEARCH_FIELDS_CONTENT\"] = \"chunk\"\n",
    "os.environ[\"AZURESEARCH_FIELDS_CONTENT_VECTOR\"] = \"vector\""
   ]
  },
  {
   "cell_type": "code",
   "execution_count": 2,
   "metadata": {},
   "outputs": [],
   "source": [
    "from langchain_core.tools import tool\n",
    "from langchain_core.messages import trim_messages\n",
    "from langchain_core.messages import AIMessage, HumanMessage, SystemMessage\n",
    "from langchain.tools.retriever import create_retriever_tool\n",
    "from langchain_openai import ChatOpenAI, OpenAIEmbeddings\n",
    "from langgraph.checkpoint.memory import MemorySaver\n",
    "from langgraph.prebuilt import create_react_agent\n",
    "from langchain_community.vectorstores.azuresearch import AzureSearch, AzureSearchVectorStoreRetriever"
   ]
  },
  {
   "cell_type": "code",
   "execution_count": 3,
   "metadata": {},
   "outputs": [],
   "source": [
    "from azure.identity import DefaultAzureCredential\n",
    "from azure.keyvault.secrets import SecretClient"
   ]
  },
  {
   "cell_type": "markdown",
   "metadata": {},
   "source": [
    "## Parameters"
   ]
  },
  {
   "cell_type": "code",
   "execution_count": 4,
   "metadata": {},
   "outputs": [],
   "source": [
    "# Conectar ao Azure Key Vault\n",
    "kv_uri = \"https://kv-poligpt-dev-eastus2.vault.azure.net\"\n",
    "credential = DefaultAzureCredential()\n",
    "client = SecretClient(vault_url=kv_uri, credential=credential)"
   ]
  },
  {
   "cell_type": "code",
   "execution_count": 5,
   "metadata": {},
   "outputs": [],
   "source": [
    "OPENAI_API_KEY = client.get_secret(\"openai-api-key\").value\n",
    "COMPLETION_MODEL = \"gpt-4o-2024-08-06\"\n",
    "EMBEDDING_MODEL = \"text-embedding-3-large\"\n",
    "EMBEDDING_DIMENSIONS = 3072\n",
    "MODEL_TEMPERATURE = 0.3\n",
    "\n",
    "AZURE_SEARCH_ENDPOINT = client.get_secret(\"azure-search-endpoint\").value\n",
    "AZURE_SEARCH_ADMIN_KEY = client.get_secret(\"azure-search-admin-key\").value\n",
    "SEARCH_INDEX_NAME = \"poligpt-index\"\n",
    "SEARCH_TYPE = \"hybrid\"\n",
    "NUM_DOCS_TO_RETRIEVE = 5"
   ]
  },
  {
   "cell_type": "markdown",
   "metadata": {},
   "source": [
    "## Setup"
   ]
  },
  {
   "cell_type": "markdown",
   "metadata": {},
   "source": [
    "### LLM"
   ]
  },
  {
   "cell_type": "code",
   "execution_count": 6,
   "metadata": {},
   "outputs": [],
   "source": [
    "llm = ChatOpenAI(\n",
    "    model=COMPLETION_MODEL,\n",
    "    api_key=OPENAI_API_KEY,\n",
    "    streaming=True,\n",
    "    temperature=0.3\n",
    ")"
   ]
  },
  {
   "cell_type": "markdown",
   "metadata": {},
   "source": [
    "### Embeddings"
   ]
  },
  {
   "cell_type": "code",
   "execution_count": 7,
   "metadata": {},
   "outputs": [],
   "source": [
    "embeddings = OpenAIEmbeddings(\n",
    "    model=EMBEDDING_MODEL,\n",
    "    openai_api_key=OPENAI_API_KEY, \n",
    "    dimensions=EMBEDDING_DIMENSIONS\n",
    ")"
   ]
  },
  {
   "cell_type": "markdown",
   "metadata": {},
   "source": [
    "### Vector Store"
   ]
  },
  {
   "cell_type": "code",
   "execution_count": 8,
   "metadata": {},
   "outputs": [],
   "source": [
    "vector_store = AzureSearch(\n",
    "    azure_search_endpoint=AZURE_SEARCH_ENDPOINT,\n",
    "    azure_search_key=AZURE_SEARCH_ADMIN_KEY,\n",
    "    index_name=SEARCH_INDEX_NAME,\n",
    "    embedding_function=embeddings.embed_query,\n",
    "    search_type=\"hybrid\"\n",
    ")"
   ]
  },
  {
   "cell_type": "code",
   "execution_count": 49,
   "metadata": {},
   "outputs": [],
   "source": [
    "# # Teste do vector store\n",
    "# docs = vector_store.hybrid_search(\n",
    "#     query=\"Como me inscrevo numa materia?\",\n",
    "#     k=3\n",
    "# )\n",
    "\n",
    "# docs"
   ]
  },
  {
   "cell_type": "code",
   "execution_count": 50,
   "metadata": {},
   "outputs": [],
   "source": [
    "# retriever = AzureSearchVectorStoreRetriever(\n",
    "#     name=\"AzureSearchRetriever\",\n",
    "#     vectorstore=vector_store,\n",
    "#     search_type=\"hybrid\",\n",
    "#     k=3\n",
    "# )"
   ]
  },
  {
   "cell_type": "markdown",
   "metadata": {},
   "source": [
    "## RAG Agent"
   ]
  },
  {
   "cell_type": "code",
   "execution_count": 16,
   "metadata": {},
   "outputs": [],
   "source": [
    "memory = MemorySaver()"
   ]
  },
  {
   "cell_type": "code",
   "execution_count": 10,
   "metadata": {},
   "outputs": [],
   "source": [
    "@tool(response_format=\"content_and_artifact\")\n",
    "def retriever_tool(query: str):\n",
    "    \"\"\"Busca e retorna informações relacionadas a questões acadêmicas ou institucionais sobre a Escola Politécnica da UFRJ.\"\"\"\n",
    "    retrieved_docs = vector_store.hybrid_search(query, k=3)\n",
    "    serialized = \"\\n\\n\".join(\n",
    "        (f\"Source: {doc.metadata}\\n\" f\"Content: {doc.page_content}\")\n",
    "        for doc in retrieved_docs\n",
    "    )\n",
    "    return serialized, retrieved_docs"
   ]
  },
  {
   "cell_type": "code",
   "execution_count": 11,
   "metadata": {},
   "outputs": [],
   "source": [
    "tools = [retriever_tool]"
   ]
  },
  {
   "cell_type": "code",
   "execution_count": 17,
   "metadata": {},
   "outputs": [],
   "source": [
    "agent_executor = create_react_agent(\n",
    "    model=llm, \n",
    "    tools=tools, \n",
    "    checkpointer=memory\n",
    ")"
   ]
  },
  {
   "cell_type": "code",
   "execution_count": 30,
   "metadata": {},
   "outputs": [
    {
     "name": "stdout",
     "output_type": "stream",
     "text": [
      "================================\u001b[1m Human Message \u001b[0m=================================\n",
      "\n",
      "A politecnica ja recebeu algum prêmio?\n",
      "==================================\u001b[1m Ai Message \u001b[0m==================================\n",
      "\n",
      "Sim, a Escola Politécnica da UFRJ já recebeu prêmios. Recentemente, ela foi contemplada com sete premiações no XI Prêmio Crea-RJ de Trabalhos Científicos e Tecnológicos. Esses prêmios foram concedidos a trabalhos de conclusão de curso, incluindo um do mestrado do Programa de Engenharia Urbana e seis de cursos de graduação nas engenharias Ambiental, Civil, Metalúrgica, Materiais, Petróleo e Produção. Além disso, alunos da Politécnica-UFRJ também receberam prêmios da ABS, e uma ONG criada por uma ex-aluna foi premiada pela Women of the Future Programme (WOF) e pela Unesco.\n"
     ]
    },
    {
     "ename": "",
     "evalue": "",
     "output_type": "error",
     "traceback": [
      "\u001b[1;31mThe Kernel crashed while executing code in the current cell or a previous cell. \n",
      "\u001b[1;31mPlease review the code in the cell(s) to identify a possible cause of the failure. \n",
      "\u001b[1;31mClick <a href='https://aka.ms/vscodeJupyterKernelCrash'>here</a> for more info. \n",
      "\u001b[1;31mView Jupyter <a href='command:jupyter.viewOutput'>log</a> for further details."
     ]
    }
   ],
   "source": [
    "config = {\"configurable\": {\"thread_id\": \"def234\"}}\n",
    "\n",
    "input_message = (\n",
    "    \"A politecnica ja recebeu algum prêmio?\"\n",
    ")\n",
    "\n",
    "events = []\n",
    "for event in agent_executor.stream(\n",
    "    {\"messages\": [{\"role\": \"user\", \"content\": input_message}]},\n",
    "    stream_mode=\"values\",\n",
    "    config=config,\n",
    "):\n",
    "    event[\"messages\"][-1].pretty_print()\n",
    "    #events.append(event)"
   ]
  },
  {
   "cell_type": "code",
   "execution_count": 26,
   "metadata": {},
   "outputs": [
    {
     "data": {
      "text/plain": [
       "'Sim, a Escola Politécnica da UFRJ já recebeu prêmios. Recentemente, no XI Prêmio Crea-RJ de Trabalhos Científicos e Tecnológicos, a Escola Politécnica foi contemplada com sete premiações para trabalhos de conclusão de curso, incluindo um do mestrado do Programa de Engenharia Urbana e seis de cursos de graduação nas engenharias Ambiental, Civil, Metalúrgica, Materiais, Petróleo e Produção. Além disso, alunos da Politécnica-UFRJ também foram premiados pela ABS, e uma ONG criada por uma ex-aluna foi premiada pela Women of the Future Programme (WOF) e pela Unesco.'"
      ]
     },
     "execution_count": 26,
     "metadata": {},
     "output_type": "execute_result"
    }
   ],
   "source": [
    "events[-1][\"messages\"][-1].content"
   ]
  },
  {
   "cell_type": "code",
   "execution_count": 29,
   "metadata": {},
   "outputs": [
    {
     "data": {
      "text/plain": [
       "[{'messages': [HumanMessage(content='A politecnica ja recebeu algum prêmio?', additional_kwargs={}, response_metadata={}, id='8af61aae-3166-4ad4-b82e-7ce78d923efe'),\n",
       "   AIMessage(content='', additional_kwargs={'tool_calls': [{'index': 0, 'id': 'call_QH3fKf5cLFRIlkj7UQfDmeTA', 'function': {'arguments': '{\"query\":\"prêmios recebidos pela Escola Politécnica da UFRJ\"}', 'name': 'retriever_tool'}, 'type': 'function'}]}, response_metadata={'finish_reason': 'tool_calls', 'model_name': 'gpt-4o-2024-08-06', 'system_fingerprint': 'fp_4691090a87'}, id='run-b93770ba-61db-47b7-81d0-22dbbd80e58c-0', tool_calls=[{'name': 'retriever_tool', 'args': {'query': 'prêmios recebidos pela Escola Politécnica da UFRJ'}, 'id': 'call_QH3fKf5cLFRIlkj7UQfDmeTA', 'type': 'tool_call'}]),\n",
       "   ToolMessage(content=\"Source: {'chunk_id': '52fc867f789a_7fabf1011cee4c4219f6290f4b9592bf_pages_0', 'keywords': 'noticia,crea rj premia sete trabalhos cientificos da escola politecnica', 'parent_id': '7fabf1011cee4c4219f6290f4b9592bf', 'title': 'Crea-RJ premia sete trabalhos científicos da Escola Politécnica', 'last_modified': '12/11/2023 00:00:00 +00:00', '@search.score': 0.03177805617451668, '@search.reranker_score': None, '@search.highlights': None, '@search.captions': None}\\nContent: Crea-RJ premia sete trabalhos científicos da Escola Politécnica\\nO XI Prêmio Crea-RJ de Trabalhos Científicos e Tecnológicos contemplou 17 trabalhos da UFRJ, que foi a instituições de ensino do Rio de Janeiro com maior quantidade de prêmios conquistados. A Escola Politécnica da UFRJ foi contemplada com 7 (sete) premiações de seus trabalhos de conclusão, sendo um do mestrado do Programa de Engenharia Urbana e seis dos cursos de graduação nas engenharias Ambiental, Civil, Metalúrgica, Materiais, Petróleo e Produção. Outras unidades da UFRJ também tiveram trabalhos premiados: Coppe com 5 trabalhos, e Instituto de Geociências (IGEO) com 5 trabalhos.\\nO reconhecimento do Conselho busca incentivar a construção do acervo científico da sociedade, reconhecendo o empenho de estudantes e professores que contribuem com este legado, e das instituições de ensino, espaços de referência para produção de novos conhecimentos.\\nA cerimônia de premiação aconteceu no dia 9 de novembro, no Clube de Engenharia, com a presença da diretora da Escola Politécnica da UFRJ, Cláudia Morgado, representando o reitor da instituição Roberto de Andrade Medronho. “Os alunos da Politécnica que submeteram seus trabalhos conclusão foram os premiados na sua área. Portanto, vamos incentivar os cursos que não puderam submeter este ano, concorram no ano que vem”, comentou a diretora.\\nVale lembrar que os trabalhos premiados também serão publicados na Ângulos, a revista digital do Crea-RJ, a critério da Comissão Editorial do Conselho.\\nO que dizem os premiados sobre seus trabalhos:\\n1) Análise comparativa da acurácia prospectiva da energia natural afluente: um estudo de caso na bacia do Rio Grande\\nAutora: Isabela Neves Merotto – graduação em Engenharia de Produção\\nOrientador: José Roberto Ribas\\n“Eu estava trabalhando em uma empresa de energia e percebi que o mercado de energia elétrica possui muitos desafios de otimização.\\n\\nSource: {'chunk_id': '52fc867f789a_3949217858ed9136fd60cd65ffb784b5_pages_0', 'keywords': 'evento,xi premio crea rj de trabalhos cientificos e tecnologicos', 'parent_id': '3949217858ed9136fd60cd65ffb784b5', 'title': 'XI Prêmio Crea-RJ de Trabalhos Científicos e Tecnológicos - Politécnica UFRJ', 'last_modified': '11/09/2023 00:00:00 +00:00', '@search.score': 0.023122038692235947, '@search.reranker_score': None, '@search.highlights': None, '@search.captions': None}\\nContent: XI Prêmio Crea-RJ de Trabalhos Científicos e Tecnológicos\\nEventos\\nO XI Prêmio Crea-RJ de Trabalhos Científicos e Tecnológicos contemplou 18 trabalhos da UFRJ, que foi a instituições de ensino do Rio de Janeiro com maior quantidade de prêmios conquistados.\\nA Escola Politécnica da UFRJ foi contemplada com 8 (oito) premiações de seus trabalhos de conclusão: do mestrado do Programa de Engenharia Urbana e de sete cursos de graduação nas engenharias Ambiental, Civil, Metalúrgica, Materiais, Nuclear, Petróleo e Produção. Outras unidades da UFRJ também tiveram trabalhos premiados: Coppe com 5 trabalhos, e Instituto de Geociências (IGEO) com 5 trabalhos.\\nA cerimônia será realizada nesta quinta-feira (9/11), às 15h, no Clube de Engenharia, com transmissão ao vivo pelo canal do Crea no YouTube. (https://www.youtube.com/@WebTVCREARJ)\\n\\nSource: {'chunk_id': 'e1ff2efac568_f602c08267838493473dce29662b965c_pages_0', 'keywords': 'comunicacao,informativos', 'parent_id': 'f602c08267838493473dce29662b965c', 'title': None, 'last_modified': '11/25/2022 00:00:00 +00:00', '@search.score': 0.020000001415610313, '@search.reranker_score': None, '@search.highlights': None, '@search.captions': None}\\nContent: Estudantes da Escola Politécnica recebem premiação do \\nCrea-RJ\\nLEIA\\nGovernador do Rio sanciona projeto de lei de alunos da \\nPolitécnica-UFRJ \\nLEIA\\nProfessor da Engenharia Naval recebe medalha “Amigo da \\nMarinha”\\nLEIA\\nEvento do Labgn2 reúne cases de sucesso para inspirar \\nnovos empreendedores\\nLEIA\\nAlunos da Politécnica-UFRJ são premiados pela ABS\\nLEIA\\nONG criada por ex-aluna é premiada pela Women of the \\nFuture Programme (WOF) e pela Unesco\\nLEIA\\nCoordCom | Politécnica - UFRJ\\nCoordenadoria de Comunicação\\ncoordcom@poli.ufrj.br | www.poli.ufrj.br\", name='retriever_tool', id='bbef343c-557d-4728-aa28-6da7381aa37b', tool_call_id='call_QH3fKf5cLFRIlkj7UQfDmeTA', artifact=[{'id': None, 'metadata': {'chunk_id': '52fc867f789a_7fabf1011cee4c4219f6290f4b9592bf_pages_0', 'keywords': 'noticia,crea rj premia sete trabalhos cientificos da escola politecnica', 'parent_id': '7fabf1011cee4c4219f6290f4b9592bf', 'title': 'Crea-RJ premia sete trabalhos científicos da Escola Politécnica', 'last_modified': '12/11/2023 00:00:00 +00:00', '@search.score': 0.03177805617451668, '@search.reranker_score': None, '@search.highlights': None, '@search.captions': None}, 'page_content': 'Crea-RJ premia sete trabalhos científicos da Escola Politécnica\\nO XI Prêmio Crea-RJ de Trabalhos Científicos e Tecnológicos contemplou 17 trabalhos da UFRJ, que foi a instituições de ensino do Rio de Janeiro com maior quantidade de prêmios conquistados. A Escola Politécnica da UFRJ foi contemplada com 7 (sete) premiações de seus trabalhos de conclusão, sendo um do mestrado do Programa de Engenharia Urbana e seis dos cursos de graduação nas engenharias Ambiental, Civil, Metalúrgica, Materiais, Petróleo e Produção. Outras unidades da UFRJ também tiveram trabalhos premiados: Coppe com 5 trabalhos, e Instituto de Geociências (IGEO) com 5 trabalhos.\\nO reconhecimento do Conselho busca incentivar a construção do acervo científico da sociedade, reconhecendo o empenho de estudantes e professores que contribuem com este legado, e das instituições de ensino, espaços de referência para produção de novos conhecimentos.\\nA cerimônia de premiação aconteceu no dia 9 de novembro, no Clube de Engenharia, com a presença da diretora da Escola Politécnica da UFRJ, Cláudia Morgado, representando o reitor da instituição Roberto de Andrade Medronho. “Os alunos da Politécnica que submeteram seus trabalhos conclusão foram os premiados na sua área. Portanto, vamos incentivar os cursos que não puderam submeter este ano, concorram no ano que vem”, comentou a diretora.\\nVale lembrar que os trabalhos premiados também serão publicados na Ângulos, a revista digital do Crea-RJ, a critério da Comissão Editorial do Conselho.\\nO que dizem os premiados sobre seus trabalhos:\\n1) Análise comparativa da acurácia prospectiva da energia natural afluente: um estudo de caso na bacia do Rio Grande\\nAutora: Isabela Neves Merotto – graduação em Engenharia de Produção\\nOrientador: José Roberto Ribas\\n“Eu estava trabalhando em uma empresa de energia e percebi que o mercado de energia elétrica possui muitos desafios de otimização.', 'type': 'Document'}, {'id': None, 'metadata': {'chunk_id': '52fc867f789a_3949217858ed9136fd60cd65ffb784b5_pages_0', 'keywords': 'evento,xi premio crea rj de trabalhos cientificos e tecnologicos', 'parent_id': '3949217858ed9136fd60cd65ffb784b5', 'title': 'XI Prêmio Crea-RJ de Trabalhos Científicos e Tecnológicos - Politécnica UFRJ', 'last_modified': '11/09/2023 00:00:00 +00:00', '@search.score': 0.023122038692235947, '@search.reranker_score': None, '@search.highlights': None, '@search.captions': None}, 'page_content': 'XI Prêmio Crea-RJ de Trabalhos Científicos e Tecnológicos\\nEventos\\nO XI Prêmio Crea-RJ de Trabalhos Científicos e Tecnológicos contemplou 18 trabalhos da UFRJ, que foi a instituições de ensino do Rio de Janeiro com maior quantidade de prêmios conquistados.\\nA Escola Politécnica da UFRJ foi contemplada com 8 (oito) premiações de seus trabalhos de conclusão: do mestrado do Programa de Engenharia Urbana e de sete cursos de graduação nas engenharias Ambiental, Civil, Metalúrgica, Materiais, Nuclear, Petróleo e Produção. Outras unidades da UFRJ também tiveram trabalhos premiados: Coppe com 5 trabalhos, e Instituto de Geociências (IGEO) com 5 trabalhos.\\nA cerimônia será realizada nesta quinta-feira (9/11), às 15h, no Clube de Engenharia, com transmissão ao vivo pelo canal do Crea no YouTube. (https://www.youtube.com/@WebTVCREARJ)', 'type': 'Document'}, {'id': None, 'metadata': {'chunk_id': 'e1ff2efac568_f602c08267838493473dce29662b965c_pages_0', 'keywords': 'comunicacao,informativos', 'parent_id': 'f602c08267838493473dce29662b965c', 'title': None, 'last_modified': '11/25/2022 00:00:00 +00:00', '@search.score': 0.020000001415610313, '@search.reranker_score': None, '@search.highlights': None, '@search.captions': None}, 'page_content': 'Estudantes da Escola Politécnica recebem premiação do \\nCrea-RJ\\nLEIA\\nGovernador do Rio sanciona projeto de lei de alunos da \\nPolitécnica-UFRJ \\nLEIA\\nProfessor da Engenharia Naval recebe medalha “Amigo da \\nMarinha”\\nLEIA\\nEvento do Labgn2 reúne cases de sucesso para inspirar \\nnovos empreendedores\\nLEIA\\nAlunos da Politécnica-UFRJ são premiados pela ABS\\nLEIA\\nONG criada por ex-aluna é premiada pela Women of the \\nFuture Programme (WOF) e pela Unesco\\nLEIA\\nCoordCom | Politécnica - UFRJ\\nCoordenadoria de Comunicação\\ncoordcom@poli.ufrj.br | www.poli.ufrj.br', 'type': 'Document'}]),\n",
       "   AIMessage(content='Sim, a Escola Politécnica da UFRJ já recebeu prêmios. Recentemente, no XI Prêmio Crea-RJ de Trabalhos Científicos e Tecnológicos, a Escola Politécnica foi contemplada com sete premiações para trabalhos de conclusão de curso, incluindo um do mestrado do Programa de Engenharia Urbana e seis de cursos de graduação nas engenharias Ambiental, Civil, Metalúrgica, Materiais, Petróleo e Produção. Além disso, alunos da Politécnica-UFRJ também foram premiados pela ABS, e uma ONG criada por uma ex-aluna foi premiada pela Women of the Future Programme (WOF) e pela Unesco.', additional_kwargs={}, response_metadata={'finish_reason': 'stop', 'model_name': 'gpt-4o-2024-08-06', 'system_fingerprint': 'fp_50cad350e4'}, id='run-f2b6cf46-7f19-4d3d-b1c2-52b646c632da-0'),\n",
       "   HumanMessage(content='A politecnica ja recebeu algum prêmio?', additional_kwargs={}, response_metadata={}, id='310b4ed2-df4f-4784-882d-0cbfa98d5b4a')]},\n",
       " {'messages': [HumanMessage(content='A politecnica ja recebeu algum prêmio?', additional_kwargs={}, response_metadata={}, id='8af61aae-3166-4ad4-b82e-7ce78d923efe'),\n",
       "   AIMessage(content='', additional_kwargs={'tool_calls': [{'index': 0, 'id': 'call_QH3fKf5cLFRIlkj7UQfDmeTA', 'function': {'arguments': '{\"query\":\"prêmios recebidos pela Escola Politécnica da UFRJ\"}', 'name': 'retriever_tool'}, 'type': 'function'}]}, response_metadata={'finish_reason': 'tool_calls', 'model_name': 'gpt-4o-2024-08-06', 'system_fingerprint': 'fp_4691090a87'}, id='run-b93770ba-61db-47b7-81d0-22dbbd80e58c-0', tool_calls=[{'name': 'retriever_tool', 'args': {'query': 'prêmios recebidos pela Escola Politécnica da UFRJ'}, 'id': 'call_QH3fKf5cLFRIlkj7UQfDmeTA', 'type': 'tool_call'}]),\n",
       "   ToolMessage(content=\"Source: {'chunk_id': '52fc867f789a_7fabf1011cee4c4219f6290f4b9592bf_pages_0', 'keywords': 'noticia,crea rj premia sete trabalhos cientificos da escola politecnica', 'parent_id': '7fabf1011cee4c4219f6290f4b9592bf', 'title': 'Crea-RJ premia sete trabalhos científicos da Escola Politécnica', 'last_modified': '12/11/2023 00:00:00 +00:00', '@search.score': 0.03177805617451668, '@search.reranker_score': None, '@search.highlights': None, '@search.captions': None}\\nContent: Crea-RJ premia sete trabalhos científicos da Escola Politécnica\\nO XI Prêmio Crea-RJ de Trabalhos Científicos e Tecnológicos contemplou 17 trabalhos da UFRJ, que foi a instituições de ensino do Rio de Janeiro com maior quantidade de prêmios conquistados. A Escola Politécnica da UFRJ foi contemplada com 7 (sete) premiações de seus trabalhos de conclusão, sendo um do mestrado do Programa de Engenharia Urbana e seis dos cursos de graduação nas engenharias Ambiental, Civil, Metalúrgica, Materiais, Petróleo e Produção. Outras unidades da UFRJ também tiveram trabalhos premiados: Coppe com 5 trabalhos, e Instituto de Geociências (IGEO) com 5 trabalhos.\\nO reconhecimento do Conselho busca incentivar a construção do acervo científico da sociedade, reconhecendo o empenho de estudantes e professores que contribuem com este legado, e das instituições de ensino, espaços de referência para produção de novos conhecimentos.\\nA cerimônia de premiação aconteceu no dia 9 de novembro, no Clube de Engenharia, com a presença da diretora da Escola Politécnica da UFRJ, Cláudia Morgado, representando o reitor da instituição Roberto de Andrade Medronho. “Os alunos da Politécnica que submeteram seus trabalhos conclusão foram os premiados na sua área. Portanto, vamos incentivar os cursos que não puderam submeter este ano, concorram no ano que vem”, comentou a diretora.\\nVale lembrar que os trabalhos premiados também serão publicados na Ângulos, a revista digital do Crea-RJ, a critério da Comissão Editorial do Conselho.\\nO que dizem os premiados sobre seus trabalhos:\\n1) Análise comparativa da acurácia prospectiva da energia natural afluente: um estudo de caso na bacia do Rio Grande\\nAutora: Isabela Neves Merotto – graduação em Engenharia de Produção\\nOrientador: José Roberto Ribas\\n“Eu estava trabalhando em uma empresa de energia e percebi que o mercado de energia elétrica possui muitos desafios de otimização.\\n\\nSource: {'chunk_id': '52fc867f789a_3949217858ed9136fd60cd65ffb784b5_pages_0', 'keywords': 'evento,xi premio crea rj de trabalhos cientificos e tecnologicos', 'parent_id': '3949217858ed9136fd60cd65ffb784b5', 'title': 'XI Prêmio Crea-RJ de Trabalhos Científicos e Tecnológicos - Politécnica UFRJ', 'last_modified': '11/09/2023 00:00:00 +00:00', '@search.score': 0.023122038692235947, '@search.reranker_score': None, '@search.highlights': None, '@search.captions': None}\\nContent: XI Prêmio Crea-RJ de Trabalhos Científicos e Tecnológicos\\nEventos\\nO XI Prêmio Crea-RJ de Trabalhos Científicos e Tecnológicos contemplou 18 trabalhos da UFRJ, que foi a instituições de ensino do Rio de Janeiro com maior quantidade de prêmios conquistados.\\nA Escola Politécnica da UFRJ foi contemplada com 8 (oito) premiações de seus trabalhos de conclusão: do mestrado do Programa de Engenharia Urbana e de sete cursos de graduação nas engenharias Ambiental, Civil, Metalúrgica, Materiais, Nuclear, Petróleo e Produção. Outras unidades da UFRJ também tiveram trabalhos premiados: Coppe com 5 trabalhos, e Instituto de Geociências (IGEO) com 5 trabalhos.\\nA cerimônia será realizada nesta quinta-feira (9/11), às 15h, no Clube de Engenharia, com transmissão ao vivo pelo canal do Crea no YouTube. (https://www.youtube.com/@WebTVCREARJ)\\n\\nSource: {'chunk_id': 'e1ff2efac568_f602c08267838493473dce29662b965c_pages_0', 'keywords': 'comunicacao,informativos', 'parent_id': 'f602c08267838493473dce29662b965c', 'title': None, 'last_modified': '11/25/2022 00:00:00 +00:00', '@search.score': 0.020000001415610313, '@search.reranker_score': None, '@search.highlights': None, '@search.captions': None}\\nContent: Estudantes da Escola Politécnica recebem premiação do \\nCrea-RJ\\nLEIA\\nGovernador do Rio sanciona projeto de lei de alunos da \\nPolitécnica-UFRJ \\nLEIA\\nProfessor da Engenharia Naval recebe medalha “Amigo da \\nMarinha”\\nLEIA\\nEvento do Labgn2 reúne cases de sucesso para inspirar \\nnovos empreendedores\\nLEIA\\nAlunos da Politécnica-UFRJ são premiados pela ABS\\nLEIA\\nONG criada por ex-aluna é premiada pela Women of the \\nFuture Programme (WOF) e pela Unesco\\nLEIA\\nCoordCom | Politécnica - UFRJ\\nCoordenadoria de Comunicação\\ncoordcom@poli.ufrj.br | www.poli.ufrj.br\", name='retriever_tool', id='bbef343c-557d-4728-aa28-6da7381aa37b', tool_call_id='call_QH3fKf5cLFRIlkj7UQfDmeTA', artifact=[{'id': None, 'metadata': {'chunk_id': '52fc867f789a_7fabf1011cee4c4219f6290f4b9592bf_pages_0', 'keywords': 'noticia,crea rj premia sete trabalhos cientificos da escola politecnica', 'parent_id': '7fabf1011cee4c4219f6290f4b9592bf', 'title': 'Crea-RJ premia sete trabalhos científicos da Escola Politécnica', 'last_modified': '12/11/2023 00:00:00 +00:00', '@search.score': 0.03177805617451668, '@search.reranker_score': None, '@search.highlights': None, '@search.captions': None}, 'page_content': 'Crea-RJ premia sete trabalhos científicos da Escola Politécnica\\nO XI Prêmio Crea-RJ de Trabalhos Científicos e Tecnológicos contemplou 17 trabalhos da UFRJ, que foi a instituições de ensino do Rio de Janeiro com maior quantidade de prêmios conquistados. A Escola Politécnica da UFRJ foi contemplada com 7 (sete) premiações de seus trabalhos de conclusão, sendo um do mestrado do Programa de Engenharia Urbana e seis dos cursos de graduação nas engenharias Ambiental, Civil, Metalúrgica, Materiais, Petróleo e Produção. Outras unidades da UFRJ também tiveram trabalhos premiados: Coppe com 5 trabalhos, e Instituto de Geociências (IGEO) com 5 trabalhos.\\nO reconhecimento do Conselho busca incentivar a construção do acervo científico da sociedade, reconhecendo o empenho de estudantes e professores que contribuem com este legado, e das instituições de ensino, espaços de referência para produção de novos conhecimentos.\\nA cerimônia de premiação aconteceu no dia 9 de novembro, no Clube de Engenharia, com a presença da diretora da Escola Politécnica da UFRJ, Cláudia Morgado, representando o reitor da instituição Roberto de Andrade Medronho. “Os alunos da Politécnica que submeteram seus trabalhos conclusão foram os premiados na sua área. Portanto, vamos incentivar os cursos que não puderam submeter este ano, concorram no ano que vem”, comentou a diretora.\\nVale lembrar que os trabalhos premiados também serão publicados na Ângulos, a revista digital do Crea-RJ, a critério da Comissão Editorial do Conselho.\\nO que dizem os premiados sobre seus trabalhos:\\n1) Análise comparativa da acurácia prospectiva da energia natural afluente: um estudo de caso na bacia do Rio Grande\\nAutora: Isabela Neves Merotto – graduação em Engenharia de Produção\\nOrientador: José Roberto Ribas\\n“Eu estava trabalhando em uma empresa de energia e percebi que o mercado de energia elétrica possui muitos desafios de otimização.', 'type': 'Document'}, {'id': None, 'metadata': {'chunk_id': '52fc867f789a_3949217858ed9136fd60cd65ffb784b5_pages_0', 'keywords': 'evento,xi premio crea rj de trabalhos cientificos e tecnologicos', 'parent_id': '3949217858ed9136fd60cd65ffb784b5', 'title': 'XI Prêmio Crea-RJ de Trabalhos Científicos e Tecnológicos - Politécnica UFRJ', 'last_modified': '11/09/2023 00:00:00 +00:00', '@search.score': 0.023122038692235947, '@search.reranker_score': None, '@search.highlights': None, '@search.captions': None}, 'page_content': 'XI Prêmio Crea-RJ de Trabalhos Científicos e Tecnológicos\\nEventos\\nO XI Prêmio Crea-RJ de Trabalhos Científicos e Tecnológicos contemplou 18 trabalhos da UFRJ, que foi a instituições de ensino do Rio de Janeiro com maior quantidade de prêmios conquistados.\\nA Escola Politécnica da UFRJ foi contemplada com 8 (oito) premiações de seus trabalhos de conclusão: do mestrado do Programa de Engenharia Urbana e de sete cursos de graduação nas engenharias Ambiental, Civil, Metalúrgica, Materiais, Nuclear, Petróleo e Produção. Outras unidades da UFRJ também tiveram trabalhos premiados: Coppe com 5 trabalhos, e Instituto de Geociências (IGEO) com 5 trabalhos.\\nA cerimônia será realizada nesta quinta-feira (9/11), às 15h, no Clube de Engenharia, com transmissão ao vivo pelo canal do Crea no YouTube. (https://www.youtube.com/@WebTVCREARJ)', 'type': 'Document'}, {'id': None, 'metadata': {'chunk_id': 'e1ff2efac568_f602c08267838493473dce29662b965c_pages_0', 'keywords': 'comunicacao,informativos', 'parent_id': 'f602c08267838493473dce29662b965c', 'title': None, 'last_modified': '11/25/2022 00:00:00 +00:00', '@search.score': 0.020000001415610313, '@search.reranker_score': None, '@search.highlights': None, '@search.captions': None}, 'page_content': 'Estudantes da Escola Politécnica recebem premiação do \\nCrea-RJ\\nLEIA\\nGovernador do Rio sanciona projeto de lei de alunos da \\nPolitécnica-UFRJ \\nLEIA\\nProfessor da Engenharia Naval recebe medalha “Amigo da \\nMarinha”\\nLEIA\\nEvento do Labgn2 reúne cases de sucesso para inspirar \\nnovos empreendedores\\nLEIA\\nAlunos da Politécnica-UFRJ são premiados pela ABS\\nLEIA\\nONG criada por ex-aluna é premiada pela Women of the \\nFuture Programme (WOF) e pela Unesco\\nLEIA\\nCoordCom | Politécnica - UFRJ\\nCoordenadoria de Comunicação\\ncoordcom@poli.ufrj.br | www.poli.ufrj.br', 'type': 'Document'}]),\n",
       "   AIMessage(content='Sim, a Escola Politécnica da UFRJ já recebeu prêmios. Recentemente, no XI Prêmio Crea-RJ de Trabalhos Científicos e Tecnológicos, a Escola Politécnica foi contemplada com sete premiações para trabalhos de conclusão de curso, incluindo um do mestrado do Programa de Engenharia Urbana e seis de cursos de graduação nas engenharias Ambiental, Civil, Metalúrgica, Materiais, Petróleo e Produção. Além disso, alunos da Politécnica-UFRJ também foram premiados pela ABS, e uma ONG criada por uma ex-aluna foi premiada pela Women of the Future Programme (WOF) e pela Unesco.', additional_kwargs={}, response_metadata={'finish_reason': 'stop', 'model_name': 'gpt-4o-2024-08-06', 'system_fingerprint': 'fp_50cad350e4'}, id='run-f2b6cf46-7f19-4d3d-b1c2-52b646c632da-0'),\n",
       "   HumanMessage(content='A politecnica ja recebeu algum prêmio?', additional_kwargs={}, response_metadata={}, id='310b4ed2-df4f-4784-882d-0cbfa98d5b4a'),\n",
       "   AIMessage(content='Sim, a Escola Politécnica da UFRJ já recebeu prêmios. Recentemente, no XI Prêmio Crea-RJ de Trabalhos Científicos e Tecnológicos, a Escola Politécnica foi contemplada com sete premiações para trabalhos de conclusão de curso, incluindo um do mestrado do Programa de Engenharia Urbana e seis de cursos de graduação nas engenharias Ambiental, Civil, Metalúrgica, Materiais, Petróleo e Produção. Além disso, alunos da Politécnica-UFRJ também foram premiados pela ABS, e uma ONG criada por uma ex-aluna foi premiada pela Women of the Future Programme (WOF) e pela Unesco.', additional_kwargs={}, response_metadata={'finish_reason': 'stop', 'model_name': 'gpt-4o-2024-08-06', 'system_fingerprint': 'fp_50cad350e4'}, id='run-69edd983-518c-4073-bd7e-788147991825-0')]}]"
      ]
     },
     "execution_count": 29,
     "metadata": {},
     "output_type": "execute_result"
    }
   ],
   "source": [
    "events"
   ]
  },
  {
   "cell_type": "markdown",
   "metadata": {},
   "source": [
    "---"
   ]
  },
  {
   "cell_type": "markdown",
   "metadata": {},
   "source": [
    "## Testes com Agente "
   ]
  },
  {
   "cell_type": "code",
   "execution_count": 56,
   "metadata": {},
   "outputs": [],
   "source": [
    "retriever = AzureSearchVectorStoreRetriever(\n",
    "    name=\"AzureSearchRetriever\",\n",
    "    vectorstore=vector_store,\n",
    "    search_type=\"hybrid\",\n",
    "    k=3\n",
    ")"
   ]
  },
  {
   "cell_type": "code",
   "execution_count": 57,
   "metadata": {},
   "outputs": [],
   "source": [
    "memory = MemorySaver()"
   ]
  },
  {
   "cell_type": "code",
   "execution_count": 58,
   "metadata": {},
   "outputs": [],
   "source": [
    "retriever_tool = create_retriever_tool(\n",
    "    retriever = retriever,\n",
    "    name = \"buscar_poli_info\",\n",
    "    description = \"Busca e retorna informações relacionadas a questões acadêmicas ou institucionais sobre a Escola Politécnica da UFRJ.\",\n",
    ")\n",
    "\n",
    "tools = [retriever_tool]"
   ]
  },
  {
   "cell_type": "code",
   "execution_count": 59,
   "metadata": {},
   "outputs": [],
   "source": [
    "system_message = SystemMessage(\n",
    "    content=\"\"\"\n",
    "    Você é o PoliGPT, um assistente virtual da Escola Politécnica da Universidade Federal do Rio de Janeiro (UFRJ), que auxilia alunos, professores, funcionários e outros interessados \n",
    "    em questões acadêmicas e institucionais relacionadas à Escola Politécnica, além de conhecimentos gerais. Quaisquer perguntas relacionadas à área acadêmica feitas pelo\n",
    "    usuário devem ser por padrão consideradas como referentes à Escola Politécnica, a não ser que seja explicitamente dito o contrário. Caso não tenha informações suficientes \n",
    "    para responder à pergunta, diga que não sabe. Responda sempre na mesma língua usada pelo usuário; caso não seja possível reconhecer a língua, use português.\n",
    "    \"\"\"\n",
    ")\n",
    "\n",
    "agent_executor = create_react_agent(\n",
    "    model=llm, \n",
    "    tools=tools, \n",
    "    state_modifier=system_message,\n",
    "    checkpointer=memory\n",
    ")\n",
    "agent_executor.step_timeout = 10"
   ]
  },
  {
   "cell_type": "code",
   "execution_count": 60,
   "metadata": {},
   "outputs": [],
   "source": [
    "query = \"Meu nome é Barbara.\"\n",
    "\n",
    "config = {\"configurable\": {\"thread_id\": \"test-thread\"}}\n",
    "messages = agent_executor.invoke(input={\"messages\": [(\"user\", query)]}, config=config)"
   ]
  },
  {
   "cell_type": "code",
   "execution_count": 61,
   "metadata": {},
   "outputs": [
    {
     "name": "stdout",
     "output_type": "stream",
     "text": [
      "Olá, Barbara! Como posso ajudar você hoje?\n"
     ]
    }
   ],
   "source": [
    "print(messages[\"messages\"][-1].content)"
   ]
  },
  {
   "cell_type": "markdown",
   "metadata": {},
   "source": [
    "---"
   ]
  },
  {
   "cell_type": "code",
   "execution_count": 62,
   "metadata": {},
   "outputs": [],
   "source": [
    "chat_history = [\n",
    "    system_message,\n",
    "    HumanMessage(content=\"Oi! Meu nome é Julia.\"),\n",
    "    AIMessage(content=\"Ola!\"),\n",
    "    HumanMessage(content=\"Como voce esta?\"),\n",
    "    AIMessage(content=\"Bem, obrigado!\"),\n",
    "]\n",
    "\n",
    "trimmed_history = trim_messages(\n",
    "    chat_history,\n",
    "    strategy=\"last\",\n",
    "    token_counter=llm,\n",
    "    max_tokens=180,\n",
    "    start_on=\"human\",\n",
    "    end_on=\"ai\",\n",
    "    include_system=True,\n",
    "    allow_partial=False\n",
    ")"
   ]
  },
  {
   "cell_type": "code",
   "execution_count": 63,
   "metadata": {},
   "outputs": [
    {
     "ename": "KeyboardInterrupt",
     "evalue": "",
     "output_type": "error",
     "traceback": [
      "\u001b[1;31m---------------------------------------------------------------------------\u001b[0m",
      "\u001b[1;31mKeyboardInterrupt\u001b[0m                         Traceback (most recent call last)",
      "Cell \u001b[1;32mIn[63], line 7\u001b[0m\n\u001b[0;32m      3\u001b[0m chat_messages \u001b[38;5;241m=\u001b[39m trimmed_history \u001b[38;5;241m+\u001b[39m [HumanMessage(content\u001b[38;5;241m=\u001b[39mquery)]\n\u001b[0;32m      5\u001b[0m config \u001b[38;5;241m=\u001b[39m {\u001b[38;5;124m\"\u001b[39m\u001b[38;5;124mconfigurable\u001b[39m\u001b[38;5;124m\"\u001b[39m: {\u001b[38;5;124m\"\u001b[39m\u001b[38;5;124mthread_id\u001b[39m\u001b[38;5;124m\"\u001b[39m: \u001b[38;5;124m\"\u001b[39m\u001b[38;5;124mtest-thread-2\u001b[39m\u001b[38;5;124m\"\u001b[39m}}\n\u001b[1;32m----> 7\u001b[0m messages \u001b[38;5;241m=\u001b[39m \u001b[43magent_executor\u001b[49m\u001b[38;5;241;43m.\u001b[39;49m\u001b[43minvoke\u001b[49m\u001b[43m(\u001b[49m\n\u001b[0;32m      8\u001b[0m \u001b[43m    \u001b[49m\u001b[38;5;28;43minput\u001b[39;49m\u001b[38;5;241;43m=\u001b[39;49m\u001b[43m{\u001b[49m\u001b[38;5;124;43m\"\u001b[39;49m\u001b[38;5;124;43mmessages\u001b[39;49m\u001b[38;5;124;43m\"\u001b[39;49m\u001b[43m:\u001b[49m\u001b[43m \u001b[49m\u001b[43mchat_messages\u001b[49m\u001b[43m}\u001b[49m\u001b[43m,\u001b[49m\u001b[43m \u001b[49m\n\u001b[0;32m      9\u001b[0m \u001b[43m    \u001b[49m\u001b[43mconfig\u001b[49m\u001b[38;5;241;43m=\u001b[39;49m\u001b[43mconfig\u001b[49m\n\u001b[0;32m     10\u001b[0m \u001b[43m)\u001b[49m\n\u001b[0;32m     12\u001b[0m \u001b[38;5;28mprint\u001b[39m(messages[\u001b[38;5;124m\"\u001b[39m\u001b[38;5;124mmessages\u001b[39m\u001b[38;5;124m\"\u001b[39m][\u001b[38;5;241m-\u001b[39m\u001b[38;5;241m1\u001b[39m]\u001b[38;5;241m.\u001b[39mcontent)\n",
      "File \u001b[1;32mc:\\Users\\BárbaraRodriguesdosS\\OneDrive - EloGroup\\Área de Trabalho\\Arquivos\\Pessoal\\Projeto Final\\RAG-Politecnica\\.venv\\Lib\\site-packages\\langgraph\\pregel\\__init__.py:1608\u001b[0m, in \u001b[0;36mPregel.invoke\u001b[1;34m(self, input, config, stream_mode, output_keys, interrupt_before, interrupt_after, debug, **kwargs)\u001b[0m\n\u001b[0;32m   1606\u001b[0m \u001b[38;5;28;01melse\u001b[39;00m:\n\u001b[0;32m   1607\u001b[0m     chunks \u001b[38;5;241m=\u001b[39m []\n\u001b[1;32m-> 1608\u001b[0m \u001b[43m\u001b[49m\u001b[38;5;28;43;01mfor\u001b[39;49;00m\u001b[43m \u001b[49m\u001b[43mchunk\u001b[49m\u001b[43m \u001b[49m\u001b[38;5;129;43;01min\u001b[39;49;00m\u001b[43m \u001b[49m\u001b[38;5;28;43mself\u001b[39;49m\u001b[38;5;241;43m.\u001b[39;49m\u001b[43mstream\u001b[49m\u001b[43m(\u001b[49m\n\u001b[0;32m   1609\u001b[0m \u001b[43m    \u001b[49m\u001b[38;5;28;43minput\u001b[39;49m\u001b[43m,\u001b[49m\n\u001b[0;32m   1610\u001b[0m \u001b[43m    \u001b[49m\u001b[43mconfig\u001b[49m\u001b[43m,\u001b[49m\n\u001b[0;32m   1611\u001b[0m \u001b[43m    \u001b[49m\u001b[43mstream_mode\u001b[49m\u001b[38;5;241;43m=\u001b[39;49m\u001b[43mstream_mode\u001b[49m\u001b[43m,\u001b[49m\n\u001b[0;32m   1612\u001b[0m \u001b[43m    \u001b[49m\u001b[43moutput_keys\u001b[49m\u001b[38;5;241;43m=\u001b[39;49m\u001b[43moutput_keys\u001b[49m\u001b[43m,\u001b[49m\n\u001b[0;32m   1613\u001b[0m \u001b[43m    \u001b[49m\u001b[43minterrupt_before\u001b[49m\u001b[38;5;241;43m=\u001b[39;49m\u001b[43minterrupt_before\u001b[49m\u001b[43m,\u001b[49m\n\u001b[0;32m   1614\u001b[0m \u001b[43m    \u001b[49m\u001b[43minterrupt_after\u001b[49m\u001b[38;5;241;43m=\u001b[39;49m\u001b[43minterrupt_after\u001b[49m\u001b[43m,\u001b[49m\n\u001b[0;32m   1615\u001b[0m \u001b[43m    \u001b[49m\u001b[43mdebug\u001b[49m\u001b[38;5;241;43m=\u001b[39;49m\u001b[43mdebug\u001b[49m\u001b[43m,\u001b[49m\n\u001b[0;32m   1616\u001b[0m \u001b[43m    \u001b[49m\u001b[38;5;241;43m*\u001b[39;49m\u001b[38;5;241;43m*\u001b[39;49m\u001b[43mkwargs\u001b[49m\u001b[43m,\u001b[49m\n\u001b[0;32m   1617\u001b[0m \u001b[43m\u001b[49m\u001b[43m)\u001b[49m\u001b[43m:\u001b[49m\n\u001b[0;32m   1618\u001b[0m \u001b[43m    \u001b[49m\u001b[38;5;28;43;01mif\u001b[39;49;00m\u001b[43m \u001b[49m\u001b[43mstream_mode\u001b[49m\u001b[43m \u001b[49m\u001b[38;5;241;43m==\u001b[39;49m\u001b[43m \u001b[49m\u001b[38;5;124;43m\"\u001b[39;49m\u001b[38;5;124;43mvalues\u001b[39;49m\u001b[38;5;124;43m\"\u001b[39;49m\u001b[43m:\u001b[49m\n\u001b[0;32m   1619\u001b[0m \u001b[43m        \u001b[49m\u001b[43mlatest\u001b[49m\u001b[43m \u001b[49m\u001b[38;5;241;43m=\u001b[39;49m\u001b[43m \u001b[49m\u001b[43mchunk\u001b[49m\n",
      "File \u001b[1;32mc:\\Users\\BárbaraRodriguesdosS\\OneDrive - EloGroup\\Área de Trabalho\\Arquivos\\Pessoal\\Projeto Final\\RAG-Politecnica\\.venv\\Lib\\site-packages\\langgraph\\pregel\\__init__.py:1336\u001b[0m, in \u001b[0;36mPregel.stream\u001b[1;34m(self, input, config, stream_mode, output_keys, interrupt_before, interrupt_after, debug, subgraphs)\u001b[0m\n\u001b[0;32m   1325\u001b[0m     \u001b[38;5;66;03m# Similarly to Bulk Synchronous Parallel / Pregel model\u001b[39;00m\n\u001b[0;32m   1326\u001b[0m     \u001b[38;5;66;03m# computation proceeds in steps, while there are channel updates\u001b[39;00m\n\u001b[0;32m   1327\u001b[0m     \u001b[38;5;66;03m# channel updates from step N are only visible in step N+1\u001b[39;00m\n\u001b[0;32m   1328\u001b[0m     \u001b[38;5;66;03m# channels are guaranteed to be immutable for the duration of the step,\u001b[39;00m\n\u001b[0;32m   1329\u001b[0m     \u001b[38;5;66;03m# with channel updates applied only at the transition between steps\u001b[39;00m\n\u001b[0;32m   1330\u001b[0m     \u001b[38;5;28;01mwhile\u001b[39;00m loop\u001b[38;5;241m.\u001b[39mtick(\n\u001b[0;32m   1331\u001b[0m         input_keys\u001b[38;5;241m=\u001b[39m\u001b[38;5;28mself\u001b[39m\u001b[38;5;241m.\u001b[39minput_channels,\n\u001b[0;32m   1332\u001b[0m         interrupt_before\u001b[38;5;241m=\u001b[39minterrupt_before_,\n\u001b[0;32m   1333\u001b[0m         interrupt_after\u001b[38;5;241m=\u001b[39minterrupt_after_,\n\u001b[0;32m   1334\u001b[0m         manager\u001b[38;5;241m=\u001b[39mrun_manager,\n\u001b[0;32m   1335\u001b[0m     ):\n\u001b[1;32m-> 1336\u001b[0m \u001b[43m        \u001b[49m\u001b[38;5;28;43;01mfor\u001b[39;49;00m\u001b[43m \u001b[49m\u001b[43m_\u001b[49m\u001b[43m \u001b[49m\u001b[38;5;129;43;01min\u001b[39;49;00m\u001b[43m \u001b[49m\u001b[43mrunner\u001b[49m\u001b[38;5;241;43m.\u001b[39;49m\u001b[43mtick\u001b[49m\u001b[43m(\u001b[49m\n\u001b[0;32m   1337\u001b[0m \u001b[43m            \u001b[49m\u001b[43mloop\u001b[49m\u001b[38;5;241;43m.\u001b[39;49m\u001b[43mtasks\u001b[49m\u001b[38;5;241;43m.\u001b[39;49m\u001b[43mvalues\u001b[49m\u001b[43m(\u001b[49m\u001b[43m)\u001b[49m\u001b[43m,\u001b[49m\n\u001b[0;32m   1338\u001b[0m \u001b[43m            \u001b[49m\u001b[43mtimeout\u001b[49m\u001b[38;5;241;43m=\u001b[39;49m\u001b[38;5;28;43mself\u001b[39;49m\u001b[38;5;241;43m.\u001b[39;49m\u001b[43mstep_timeout\u001b[49m\u001b[43m,\u001b[49m\n\u001b[0;32m   1339\u001b[0m \u001b[43m            \u001b[49m\u001b[43mretry_policy\u001b[49m\u001b[38;5;241;43m=\u001b[39;49m\u001b[38;5;28;43mself\u001b[39;49m\u001b[38;5;241;43m.\u001b[39;49m\u001b[43mretry_policy\u001b[49m\u001b[43m,\u001b[49m\n\u001b[0;32m   1340\u001b[0m \u001b[43m            \u001b[49m\u001b[43mget_waiter\u001b[49m\u001b[38;5;241;43m=\u001b[39;49m\u001b[43mget_waiter\u001b[49m\u001b[43m,\u001b[49m\n\u001b[0;32m   1341\u001b[0m \u001b[43m        \u001b[49m\u001b[43m)\u001b[49m\u001b[43m:\u001b[49m\n\u001b[0;32m   1342\u001b[0m \u001b[43m            \u001b[49m\u001b[38;5;66;43;03m# emit output\u001b[39;49;00m\n\u001b[0;32m   1343\u001b[0m \u001b[43m            \u001b[49m\u001b[38;5;28;43;01myield from\u001b[39;49;00m\u001b[43m \u001b[49m\u001b[43moutput\u001b[49m\u001b[43m(\u001b[49m\u001b[43m)\u001b[49m\n\u001b[0;32m   1344\u001b[0m \u001b[38;5;66;03m# emit output\u001b[39;00m\n",
      "File \u001b[1;32mc:\\Users\\BárbaraRodriguesdosS\\OneDrive - EloGroup\\Área de Trabalho\\Arquivos\\Pessoal\\Projeto Final\\RAG-Politecnica\\.venv\\Lib\\site-packages\\langgraph\\pregel\\runner.py:88\u001b[0m, in \u001b[0;36mPregelRunner.tick\u001b[1;34m(self, tasks, reraise, timeout, retry_policy, get_waiter)\u001b[0m\n\u001b[0;32m     86\u001b[0m end_time \u001b[38;5;241m=\u001b[39m timeout \u001b[38;5;241m+\u001b[39m time\u001b[38;5;241m.\u001b[39mmonotonic() \u001b[38;5;28;01mif\u001b[39;00m timeout \u001b[38;5;28;01melse\u001b[39;00m \u001b[38;5;28;01mNone\u001b[39;00m\n\u001b[0;32m     87\u001b[0m \u001b[38;5;28;01mwhile\u001b[39;00m \u001b[38;5;28mlen\u001b[39m(futures) \u001b[38;5;241m>\u001b[39m (\u001b[38;5;241m1\u001b[39m \u001b[38;5;28;01mif\u001b[39;00m get_waiter \u001b[38;5;129;01mis\u001b[39;00m \u001b[38;5;129;01mnot\u001b[39;00m \u001b[38;5;28;01mNone\u001b[39;00m \u001b[38;5;28;01melse\u001b[39;00m \u001b[38;5;241m0\u001b[39m):\n\u001b[1;32m---> 88\u001b[0m     done, inflight \u001b[38;5;241m=\u001b[39m \u001b[43mconcurrent\u001b[49m\u001b[38;5;241;43m.\u001b[39;49m\u001b[43mfutures\u001b[49m\u001b[38;5;241;43m.\u001b[39;49m\u001b[43mwait\u001b[49m\u001b[43m(\u001b[49m\n\u001b[0;32m     89\u001b[0m \u001b[43m        \u001b[49m\u001b[43mfutures\u001b[49m\u001b[43m,\u001b[49m\n\u001b[0;32m     90\u001b[0m \u001b[43m        \u001b[49m\u001b[43mreturn_when\u001b[49m\u001b[38;5;241;43m=\u001b[39;49m\u001b[43mconcurrent\u001b[49m\u001b[38;5;241;43m.\u001b[39;49m\u001b[43mfutures\u001b[49m\u001b[38;5;241;43m.\u001b[39;49m\u001b[43mFIRST_COMPLETED\u001b[49m\u001b[43m,\u001b[49m\n\u001b[0;32m     91\u001b[0m \u001b[43m        \u001b[49m\u001b[43mtimeout\u001b[49m\u001b[38;5;241;43m=\u001b[39;49m\u001b[43m(\u001b[49m\u001b[38;5;28;43mmax\u001b[39;49m\u001b[43m(\u001b[49m\u001b[38;5;241;43m0\u001b[39;49m\u001b[43m,\u001b[49m\u001b[43m \u001b[49m\u001b[43mend_time\u001b[49m\u001b[43m \u001b[49m\u001b[38;5;241;43m-\u001b[39;49m\u001b[43m \u001b[49m\u001b[43mtime\u001b[49m\u001b[38;5;241;43m.\u001b[39;49m\u001b[43mmonotonic\u001b[49m\u001b[43m(\u001b[49m\u001b[43m)\u001b[49m\u001b[43m)\u001b[49m\u001b[43m \u001b[49m\u001b[38;5;28;43;01mif\u001b[39;49;00m\u001b[43m \u001b[49m\u001b[43mend_time\u001b[49m\u001b[43m \u001b[49m\u001b[38;5;28;43;01melse\u001b[39;49;00m\u001b[43m \u001b[49m\u001b[38;5;28;43;01mNone\u001b[39;49;00m\u001b[43m)\u001b[49m\u001b[43m,\u001b[49m\n\u001b[0;32m     92\u001b[0m \u001b[43m    \u001b[49m\u001b[43m)\u001b[49m\n\u001b[0;32m     93\u001b[0m     \u001b[38;5;28;01mif\u001b[39;00m \u001b[38;5;129;01mnot\u001b[39;00m done:\n\u001b[0;32m     94\u001b[0m         \u001b[38;5;28;01mbreak\u001b[39;00m  \u001b[38;5;66;03m# timed out\u001b[39;00m\n",
      "File \u001b[1;32mC:\\Python312\\Lib\\concurrent\\futures\\_base.py:305\u001b[0m, in \u001b[0;36mwait\u001b[1;34m(fs, timeout, return_when)\u001b[0m\n\u001b[0;32m    301\u001b[0m         \u001b[38;5;28;01mreturn\u001b[39;00m DoneAndNotDoneFutures(done, not_done)\n\u001b[0;32m    303\u001b[0m     waiter \u001b[38;5;241m=\u001b[39m _create_and_install_waiters(fs, return_when)\n\u001b[1;32m--> 305\u001b[0m \u001b[43mwaiter\u001b[49m\u001b[38;5;241;43m.\u001b[39;49m\u001b[43mevent\u001b[49m\u001b[38;5;241;43m.\u001b[39;49m\u001b[43mwait\u001b[49m\u001b[43m(\u001b[49m\u001b[43mtimeout\u001b[49m\u001b[43m)\u001b[49m\n\u001b[0;32m    306\u001b[0m \u001b[38;5;28;01mfor\u001b[39;00m f \u001b[38;5;129;01min\u001b[39;00m fs:\n\u001b[0;32m    307\u001b[0m     \u001b[38;5;28;01mwith\u001b[39;00m f\u001b[38;5;241m.\u001b[39m_condition:\n",
      "File \u001b[1;32mC:\\Python312\\Lib\\threading.py:655\u001b[0m, in \u001b[0;36mEvent.wait\u001b[1;34m(self, timeout)\u001b[0m\n\u001b[0;32m    653\u001b[0m signaled \u001b[38;5;241m=\u001b[39m \u001b[38;5;28mself\u001b[39m\u001b[38;5;241m.\u001b[39m_flag\n\u001b[0;32m    654\u001b[0m \u001b[38;5;28;01mif\u001b[39;00m \u001b[38;5;129;01mnot\u001b[39;00m signaled:\n\u001b[1;32m--> 655\u001b[0m     signaled \u001b[38;5;241m=\u001b[39m \u001b[38;5;28;43mself\u001b[39;49m\u001b[38;5;241;43m.\u001b[39;49m\u001b[43m_cond\u001b[49m\u001b[38;5;241;43m.\u001b[39;49m\u001b[43mwait\u001b[49m\u001b[43m(\u001b[49m\u001b[43mtimeout\u001b[49m\u001b[43m)\u001b[49m\n\u001b[0;32m    656\u001b[0m \u001b[38;5;28;01mreturn\u001b[39;00m signaled\n",
      "File \u001b[1;32mC:\\Python312\\Lib\\threading.py:359\u001b[0m, in \u001b[0;36mCondition.wait\u001b[1;34m(self, timeout)\u001b[0m\n\u001b[0;32m    357\u001b[0m \u001b[38;5;28;01melse\u001b[39;00m:\n\u001b[0;32m    358\u001b[0m     \u001b[38;5;28;01mif\u001b[39;00m timeout \u001b[38;5;241m>\u001b[39m \u001b[38;5;241m0\u001b[39m:\n\u001b[1;32m--> 359\u001b[0m         gotit \u001b[38;5;241m=\u001b[39m \u001b[43mwaiter\u001b[49m\u001b[38;5;241;43m.\u001b[39;49m\u001b[43macquire\u001b[49m\u001b[43m(\u001b[49m\u001b[38;5;28;43;01mTrue\u001b[39;49;00m\u001b[43m,\u001b[49m\u001b[43m \u001b[49m\u001b[43mtimeout\u001b[49m\u001b[43m)\u001b[49m\n\u001b[0;32m    360\u001b[0m     \u001b[38;5;28;01melse\u001b[39;00m:\n\u001b[0;32m    361\u001b[0m         gotit \u001b[38;5;241m=\u001b[39m waiter\u001b[38;5;241m.\u001b[39macquire(\u001b[38;5;28;01mFalse\u001b[39;00m)\n",
      "\u001b[1;31mKeyboardInterrupt\u001b[0m: "
     ]
    }
   ],
   "source": [
    "query = \"Tem noticias relevantes recentes sobre a escola politecnica?\"\n",
    "\n",
    "chat_messages = trimmed_history + [HumanMessage(content=query)]\n",
    "\n",
    "config = {\"configurable\": {\"thread_id\": \"test-thread-2\"}}\n",
    "\n",
    "messages = agent_executor.invoke(\n",
    "    input={\"messages\": chat_messages}, \n",
    "    config=config\n",
    ")\n",
    "\n",
    "print(messages[\"messages\"][-1].content)"
   ]
  },
  {
   "cell_type": "code",
   "execution_count": null,
   "metadata": {},
   "outputs": [
    {
     "data": {
      "text/plain": [
       "{'messages': [SystemMessage(content='\\n    Você é o PoliGPT, um assistente virtual da Escola Politécnica da Universidade Federal do Rio de Janeiro (UFRJ), que auxilia alunos, professores, funcionários e outros interessados \\n    em questões acadêmicas e institucionais relacionadas à Escola Politécnica, além de conhecimentos gerais. Quaisquer perguntas relacionadas à área acadêmica feitas pelo\\n    usuário devem ser por padrão consideradas como referentes à Escola Politécnica, a não ser que seja explicitamente dito o contrário. Caso não tenha informações suficientes \\n    para responder à pergunta, diga que não sabe. Responda sempre na mesma língua usada pelo usuário; caso não seja possível reconhecer a língua, use português.\\n    ', additional_kwargs={}, response_metadata={}, id='fe17a7db-b9b0-4b03-8430-8b3dcac01dfe'),\n",
       "  HumanMessage(content='Oi! Meu nome é Julia.', additional_kwargs={}, response_metadata={}, id='04862b72-363e-416d-a7b4-66df9576862a'),\n",
       "  AIMessage(content='Ola!', additional_kwargs={}, response_metadata={}, id='c489d3b5-4b31-47b6-a6fc-cd7e54b4fb18'),\n",
       "  HumanMessage(content='Como voce esta?', additional_kwargs={}, response_metadata={}, id='29bb4797-82d7-4ed3-b250-d8d857e72bf7'),\n",
       "  AIMessage(content='Bem, obrigado!', additional_kwargs={}, response_metadata={}, id='093ce2d0-2aea-44a1-921f-54e8f12e43b6'),\n",
       "  HumanMessage(content='Qual sua cor favorita?', additional_kwargs={}, response_metadata={}, id='1e58ed6a-e68c-45f2-b342-7aae00f99937'),\n",
       "  AIMessage(content='Eu não tenho preferências pessoais ou emoções, mas estou aqui para ajudar você com qualquer dúvida que tenha!', additional_kwargs={}, response_metadata={'finish_reason': 'stop', 'model_name': 'gpt-4o-2024-08-06', 'system_fingerprint': 'fp_9faba9f038'}, id='run-966e79f6-2008-4732-b882-7b83e1d9e5bb-0'),\n",
       "  HumanMessage(content='O que vc acha da UFRJ?', additional_kwargs={}, response_metadata={}, id='b6c905fc-36df-49b4-b857-b83d98060ed7'),\n",
       "  AIMessage(content='A UFRJ é uma das universidades mais renomadas do Brasil, conhecida por sua excelência acadêmica, pesquisa de ponta e contribuição significativa para a sociedade. A Escola Politécnica, em particular, é reconhecida por formar engenheiros altamente qualificados em diversas áreas. Se você tiver perguntas específicas sobre a UFRJ ou a Escola Politécnica, estou aqui para ajudar!', additional_kwargs={}, response_metadata={'finish_reason': 'stop', 'model_name': 'gpt-4o-2024-08-06', 'system_fingerprint': 'fp_9faba9f038'}, id='run-3fecfd9c-6783-45ff-9777-6addef3d23db-0'),\n",
       "  HumanMessage(content='Tem noticias relevantes recentes sobre a escola politecnica?', additional_kwargs={}, response_metadata={}, id='922206ba-a007-47a0-9992-cdb0e03c7922'),\n",
       "  AIMessage(content='', additional_kwargs={'tool_calls': [{'index': 0, 'id': 'call_SEJ5v4rJdPYdrsDrsNsLHdgJ', 'function': {'arguments': '{\"query\":\"notícias recentes\"}', 'name': 'buscar_poli_info'}, 'type': 'function'}]}, response_metadata={'finish_reason': 'tool_calls', 'model_name': 'gpt-4o-2024-08-06', 'system_fingerprint': 'fp_9faba9f038'}, id='run-ff68c59b-0c0c-41ef-a323-b0550d15636e-0', tool_calls=[{'name': 'buscar_poli_info', 'args': {'query': 'notícias recentes'}, 'id': 'call_SEJ5v4rJdPYdrsDrsNsLHdgJ', 'type': 'tool_call'}]),\n",
       "  ToolMessage(content='falou sobre o derramamento de óleo no \\nNordeste na BandNews FM e em reportagem do jornal O \\nGlobo.\\n Os portais Portos e Navios e Petro Notícias destacaram a \\npremiação dos alunos da Poli no VIII Prêmio CREA-RJ de \\nTrabalhos Científicos e Tecnológicos.\\n\\nComunicação\\nNotícias\\nNotícias\\nPetroTeam da Politécnica-UFRJ é bicampeão do Petrobowl Championship\\nEstudantes do curso de Engenharia de Petróleo da Escola Politécnica da UFRJ conquistaram o 1º...\\nNotícias\\nNova diretoria do Clube de Engenharia para triênio 2024/2027 toma posse\\nOntem (9/9), a nova diretoria eleita para o triênio 2024-2027 do Clube de Engenharia tomou...\\nNotícias\\nProfessor da Politécnica participa de principal evento global dedicado ao avanço da ciência e tecnologia de proteção contra raios\\nO professor Antonio Carlos Siqueira de Lima do Departamento de Engenharia Elétrica da Escola Politécnica...\\nNotícias\\nEscola Politécnica conquista medalha de ouro durante edição praia dos Jogos Universitários Brasileiros\\nO aluno Lucas Elbert do curso de Engenharia Eletrônica e Computação da Escola Politécnica da...\\nMinerva Náutica fica entre as cinco melhores equipes em competição nacional\\nA equipe de nautimodelismo da Escola Politécnica da UFRJ, a Minerva Náutica, garantiu o quarto...\\nProfessores da Escola Politécnica são contemplados pelos editais Cientistas e Jovens Cientistas do Nosso Estado\\nFoi divulgado no último dia 25 de julho, o resultado preliminar dos editais Cientista do...\\nNotícias\\nIntegrante da Enactus UFRJ chega ao Top 10 do Programa de Jovens Talentos da Enactus Brasil\\nSob coordenação da professora Alice Ferruccio da Escola Politécnica da UFRJ, a Enactus UFRJ –...\\nNotícias\\nEquipes de competição da Escola Politécnica marcaram presença no Rio Innovation Week\\nSeis equipes de competição vinculadas à Escola Politécnica da UFRJ participaram do Rio Innovation Week,...\\nNotícias\\nIntercambistas participam de atividade de integração na Politécnica-UFRJ\\nA Escola Politécnica da UFRJ, através da Diretoria Adjunta de Relações Internacionais e do Interpoli...\\nNotícias\\nUFRJ recebe pela primeira vez workshop sobre recuperação de informação musical latino-americana\\nEstá aberto até o dia 20 de setembro o período de submissão de trabalhos para...\\nNotícias\\nProfª.\\n\\nComunicação\\nNa imprensa\\nAnálises de laboratório vão indicar reabertura de aeroporto no RS\\nMetrópoles | 24/06/2024\\nCarros elétricos: Brasil tem carta na manga para fazer diferente e melhor\\nOlhar Digital | 17/06/2024\\nGoverno do RS prevê que reconstrução de áreas atingidas pelas enchentes demore 1 ano\\nJornal Hoje (TV Globo) | 03/06/2024\\nMunicípios do Rio terão projeto piloto contra tragédias climáticas com investimento de US$ 1,3 milhão\\nO Globo | 28/05/2024\\nEscola Pública em Magé transforma lixo orgânico em energia limpa\\nFolha de S. Paulo | 26/05/2024\\nMais de 1 milhão de casas no Rio estão em áreas de alto risco para inundações, segundo estudo\\nO Globo | 14/05/2024\\nRetomada das obras do Projeto Iguaçu ainda não saiu do papel\\nRJTV (TV Globo) | 08/05/2024\\nDesastre no RS\\nAgência Brasil | 06/05/2024\\nEm grandes cidades, deslocamento é drama diário para trabalhador\\nAgência Brasil | 01/05/2024\\nEscola Politécnica da UFRJ é declarada patrimônio do Rio\\nTV Alerj | 25/04/2024\\nEscola Politécnica da UFRJ é declarada patrimônio do Rio\\nAgência Brasil | 15/04/2024\\nEscola Politécnica da UFRJ é declarada patrimônio do Rio\\nO Globo | 15/04/2024\\nNível de tolueno em água que abastece sistema Imunana-Laranjal chegou a ser sete vezes maior que o permitido\\nCBN | 06/04/2024\\nReservas provadas de petróleo\\nAgência Brasil | 02/04/2024\\nColapso de ponte em Baltimore era evitável após colisão? Engenheiro comenta\\nTerra | 26/03/2024\\nEntenda como a chuva provoca deslizamentos e desmoronamentos\\nAgência Brasil | 24/03/2024\\nChuvas no RJ\\nCBN | 23/03/2024\\nSoluções para enfrentar a escassez hídrica\\nUm só planeta (Ed. Globo) | 22/03/2024\\nCientistas desenvolvem impressão 3D sustentável e multicolorida\\nCorreio Braziliense | 11/03/2024\\nAula inaugural da pós-graduação\\nO Dia | 07/03/2024\\nEntenda o que contribui para as enchentes na Baixada\\nRJTV (TV Globo) | 22/02/2024', name='buscar_poli_info', id='b2b6251c-ccdd-49d2-90bd-ddf9f02cd97b', tool_call_id='call_SEJ5v4rJdPYdrsDrsNsLHdgJ'),\n",
       "  AIMessage(content='Aqui estão algumas notícias recentes sobre a Escola Politécnica da UFRJ:\\n\\n1. **PetroTeam da Politécnica-UFRJ é bicampeão do Petrobowl Championship**: Estudantes do curso de Engenharia de Petróleo conquistaram o 1º lugar no Petrobowl Championship.\\n\\n2. **Nova diretoria do Clube de Engenharia para triênio 2024/2027 toma posse**: A nova diretoria eleita para o triênio 2024-2027 do Clube de Engenharia tomou posse recentemente.\\n\\n3. **Professor da Politécnica participa de evento global sobre proteção contra raios**: O professor Antonio Carlos Siqueira de Lima do Departamento de Engenharia Elétrica participou de um importante evento global dedicado à ciência e tecnologia de proteção contra raios.\\n\\n4. **Medalha de ouro nos Jogos Universitários Brasileiros**: O aluno Lucas Elbert do curso de Engenharia Eletrônica e Computação conquistou medalha de ouro durante a edição praia dos Jogos Universitários Brasileiros.\\n\\n5. **Minerva Náutica fica entre as cinco melhores equipes em competição nacional**: A equipe de nautimodelismo da Escola Politécnica, Minerva Náutica, garantiu o quarto lugar em uma competição nacional.\\n\\nSe precisar de mais informações sobre algum desses tópicos, é só me avisar!', additional_kwargs={}, response_metadata={'finish_reason': 'stop', 'model_name': 'gpt-4o-2024-08-06', 'system_fingerprint': 'fp_9faba9f038'}, id='run-f998e7fd-6f02-47e9-b1e3-2808118b7557-0')]}"
      ]
     },
     "execution_count": 91,
     "metadata": {},
     "output_type": "execute_result"
    }
   ],
   "source": [
    "messages"
   ]
  },
  {
   "cell_type": "code",
   "execution_count": null,
   "metadata": {},
   "outputs": [
    {
     "data": {
      "text/plain": [
       "StateSnapshot(values={'messages': [SystemMessage(content='\\n    Você é o PoliGPT, um assistente virtual da Escola Politécnica da Universidade Federal do Rio de Janeiro (UFRJ), que auxilia alunos, professores, funcionários e outros interessados \\n    em questões acadêmicas e institucionais relacionadas à Escola Politécnica, além de conhecimentos gerais. Quaisquer perguntas relacionadas à área acadêmica feitas pelo\\n    usuário devem ser por padrão consideradas como referentes à Escola Politécnica, a não ser que seja explicitamente dito o contrário. Caso não tenha informações suficientes \\n    para responder à pergunta, diga que não sabe. Responda sempre na mesma língua usada pelo usuário; caso não seja possível reconhecer a língua, use português.\\n    ', additional_kwargs={}, response_metadata={}, id='fe17a7db-b9b0-4b03-8430-8b3dcac01dfe'), HumanMessage(content='Oi! Meu nome é Julia.', additional_kwargs={}, response_metadata={}, id='04862b72-363e-416d-a7b4-66df9576862a'), AIMessage(content='Ola!', additional_kwargs={}, response_metadata={}, id='c489d3b5-4b31-47b6-a6fc-cd7e54b4fb18'), HumanMessage(content='Como voce esta?', additional_kwargs={}, response_metadata={}, id='29bb4797-82d7-4ed3-b250-d8d857e72bf7'), AIMessage(content='Bem, obrigado!', additional_kwargs={}, response_metadata={}, id='093ce2d0-2aea-44a1-921f-54e8f12e43b6'), HumanMessage(content='Qual sua cor favorita?', additional_kwargs={}, response_metadata={}, id='1e58ed6a-e68c-45f2-b342-7aae00f99937'), AIMessage(content='Eu não tenho preferências pessoais ou emoções, mas estou aqui para ajudar você com qualquer dúvida que tenha!', additional_kwargs={}, response_metadata={'finish_reason': 'stop', 'model_name': 'gpt-4o-2024-08-06', 'system_fingerprint': 'fp_9faba9f038'}, id='run-966e79f6-2008-4732-b882-7b83e1d9e5bb-0'), HumanMessage(content='O que vc acha da UFRJ?', additional_kwargs={}, response_metadata={}, id='b6c905fc-36df-49b4-b857-b83d98060ed7'), AIMessage(content='A UFRJ é uma das universidades mais renomadas do Brasil, conhecida por sua excelência acadêmica, pesquisa de ponta e contribuição significativa para a sociedade. A Escola Politécnica, em particular, é reconhecida por formar engenheiros altamente qualificados em diversas áreas. Se você tiver perguntas específicas sobre a UFRJ ou a Escola Politécnica, estou aqui para ajudar!', additional_kwargs={}, response_metadata={'finish_reason': 'stop', 'model_name': 'gpt-4o-2024-08-06', 'system_fingerprint': 'fp_9faba9f038'}, id='run-3fecfd9c-6783-45ff-9777-6addef3d23db-0'), HumanMessage(content='Tem noticias relevantes recentes sobre a escola politecnica?', additional_kwargs={}, response_metadata={}, id='922206ba-a007-47a0-9992-cdb0e03c7922'), AIMessage(content='', additional_kwargs={'tool_calls': [{'index': 0, 'id': 'call_SEJ5v4rJdPYdrsDrsNsLHdgJ', 'function': {'arguments': '{\"query\":\"notícias recentes\"}', 'name': 'buscar_poli_info'}, 'type': 'function'}]}, response_metadata={'finish_reason': 'tool_calls', 'model_name': 'gpt-4o-2024-08-06', 'system_fingerprint': 'fp_9faba9f038'}, id='run-ff68c59b-0c0c-41ef-a323-b0550d15636e-0', tool_calls=[{'name': 'buscar_poli_info', 'args': {'query': 'notícias recentes'}, 'id': 'call_SEJ5v4rJdPYdrsDrsNsLHdgJ', 'type': 'tool_call'}]), ToolMessage(content='falou sobre o derramamento de óleo no \\nNordeste na BandNews FM e em reportagem do jornal O \\nGlobo.\\n Os portais Portos e Navios e Petro Notícias destacaram a \\npremiação dos alunos da Poli no VIII Prêmio CREA-RJ de \\nTrabalhos Científicos e Tecnológicos.\\n\\nComunicação\\nNotícias\\nNotícias\\nPetroTeam da Politécnica-UFRJ é bicampeão do Petrobowl Championship\\nEstudantes do curso de Engenharia de Petróleo da Escola Politécnica da UFRJ conquistaram o 1º...\\nNotícias\\nNova diretoria do Clube de Engenharia para triênio 2024/2027 toma posse\\nOntem (9/9), a nova diretoria eleita para o triênio 2024-2027 do Clube de Engenharia tomou...\\nNotícias\\nProfessor da Politécnica participa de principal evento global dedicado ao avanço da ciência e tecnologia de proteção contra raios\\nO professor Antonio Carlos Siqueira de Lima do Departamento de Engenharia Elétrica da Escola Politécnica...\\nNotícias\\nEscola Politécnica conquista medalha de ouro durante edição praia dos Jogos Universitários Brasileiros\\nO aluno Lucas Elbert do curso de Engenharia Eletrônica e Computação da Escola Politécnica da...\\nMinerva Náutica fica entre as cinco melhores equipes em competição nacional\\nA equipe de nautimodelismo da Escola Politécnica da UFRJ, a Minerva Náutica, garantiu o quarto...\\nProfessores da Escola Politécnica são contemplados pelos editais Cientistas e Jovens Cientistas do Nosso Estado\\nFoi divulgado no último dia 25 de julho, o resultado preliminar dos editais Cientista do...\\nNotícias\\nIntegrante da Enactus UFRJ chega ao Top 10 do Programa de Jovens Talentos da Enactus Brasil\\nSob coordenação da professora Alice Ferruccio da Escola Politécnica da UFRJ, a Enactus UFRJ –...\\nNotícias\\nEquipes de competição da Escola Politécnica marcaram presença no Rio Innovation Week\\nSeis equipes de competição vinculadas à Escola Politécnica da UFRJ participaram do Rio Innovation Week,...\\nNotícias\\nIntercambistas participam de atividade de integração na Politécnica-UFRJ\\nA Escola Politécnica da UFRJ, através da Diretoria Adjunta de Relações Internacionais e do Interpoli...\\nNotícias\\nUFRJ recebe pela primeira vez workshop sobre recuperação de informação musical latino-americana\\nEstá aberto até o dia 20 de setembro o período de submissão de trabalhos para...\\nNotícias\\nProfª.\\n\\nComunicação\\nNa imprensa\\nAnálises de laboratório vão indicar reabertura de aeroporto no RS\\nMetrópoles | 24/06/2024\\nCarros elétricos: Brasil tem carta na manga para fazer diferente e melhor\\nOlhar Digital | 17/06/2024\\nGoverno do RS prevê que reconstrução de áreas atingidas pelas enchentes demore 1 ano\\nJornal Hoje (TV Globo) | 03/06/2024\\nMunicípios do Rio terão projeto piloto contra tragédias climáticas com investimento de US$ 1,3 milhão\\nO Globo | 28/05/2024\\nEscola Pública em Magé transforma lixo orgânico em energia limpa\\nFolha de S. Paulo | 26/05/2024\\nMais de 1 milhão de casas no Rio estão em áreas de alto risco para inundações, segundo estudo\\nO Globo | 14/05/2024\\nRetomada das obras do Projeto Iguaçu ainda não saiu do papel\\nRJTV (TV Globo) | 08/05/2024\\nDesastre no RS\\nAgência Brasil | 06/05/2024\\nEm grandes cidades, deslocamento é drama diário para trabalhador\\nAgência Brasil | 01/05/2024\\nEscola Politécnica da UFRJ é declarada patrimônio do Rio\\nTV Alerj | 25/04/2024\\nEscola Politécnica da UFRJ é declarada patrimônio do Rio\\nAgência Brasil | 15/04/2024\\nEscola Politécnica da UFRJ é declarada patrimônio do Rio\\nO Globo | 15/04/2024\\nNível de tolueno em água que abastece sistema Imunana-Laranjal chegou a ser sete vezes maior que o permitido\\nCBN | 06/04/2024\\nReservas provadas de petróleo\\nAgência Brasil | 02/04/2024\\nColapso de ponte em Baltimore era evitável após colisão? Engenheiro comenta\\nTerra | 26/03/2024\\nEntenda como a chuva provoca deslizamentos e desmoronamentos\\nAgência Brasil | 24/03/2024\\nChuvas no RJ\\nCBN | 23/03/2024\\nSoluções para enfrentar a escassez hídrica\\nUm só planeta (Ed. Globo) | 22/03/2024\\nCientistas desenvolvem impressão 3D sustentável e multicolorida\\nCorreio Braziliense | 11/03/2024\\nAula inaugural da pós-graduação\\nO Dia | 07/03/2024\\nEntenda o que contribui para as enchentes na Baixada\\nRJTV (TV Globo) | 22/02/2024', name='buscar_poli_info', id='b2b6251c-ccdd-49d2-90bd-ddf9f02cd97b', tool_call_id='call_SEJ5v4rJdPYdrsDrsNsLHdgJ'), AIMessage(content='Aqui estão algumas notícias recentes sobre a Escola Politécnica da UFRJ:\\n\\n1. **PetroTeam da Politécnica-UFRJ é bicampeão do Petrobowl Championship**: Estudantes do curso de Engenharia de Petróleo conquistaram o 1º lugar no Petrobowl Championship.\\n\\n2. **Nova diretoria do Clube de Engenharia para triênio 2024/2027 toma posse**: A nova diretoria eleita para o triênio 2024-2027 do Clube de Engenharia tomou posse recentemente.\\n\\n3. **Professor da Politécnica participa de evento global sobre proteção contra raios**: O professor Antonio Carlos Siqueira de Lima do Departamento de Engenharia Elétrica participou de um importante evento global dedicado à ciência e tecnologia de proteção contra raios.\\n\\n4. **Medalha de ouro nos Jogos Universitários Brasileiros**: O aluno Lucas Elbert do curso de Engenharia Eletrônica e Computação conquistou medalha de ouro durante a edição praia dos Jogos Universitários Brasileiros.\\n\\n5. **Minerva Náutica fica entre as cinco melhores equipes em competição nacional**: A equipe de nautimodelismo da Escola Politécnica, Minerva Náutica, garantiu o quarto lugar em uma competição nacional.\\n\\nSe precisar de mais informações sobre algum desses tópicos, é só me avisar!', additional_kwargs={}, response_metadata={'finish_reason': 'stop', 'model_name': 'gpt-4o-2024-08-06', 'system_fingerprint': 'fp_9faba9f038'}, id='run-f998e7fd-6f02-47e9-b1e3-2808118b7557-0')]}, next=(), config={'configurable': {'thread_id': 'test-thread-2', 'checkpoint_ns': '', 'checkpoint_id': '1efbb4af-20ad-6c81-8009-a872c370f0e6'}}, metadata={'source': 'loop', 'writes': {'agent': {'messages': [AIMessage(content='Aqui estão algumas notícias recentes sobre a Escola Politécnica da UFRJ:\\n\\n1. **PetroTeam da Politécnica-UFRJ é bicampeão do Petrobowl Championship**: Estudantes do curso de Engenharia de Petróleo conquistaram o 1º lugar no Petrobowl Championship.\\n\\n2. **Nova diretoria do Clube de Engenharia para triênio 2024/2027 toma posse**: A nova diretoria eleita para o triênio 2024-2027 do Clube de Engenharia tomou posse recentemente.\\n\\n3. **Professor da Politécnica participa de evento global sobre proteção contra raios**: O professor Antonio Carlos Siqueira de Lima do Departamento de Engenharia Elétrica participou de um importante evento global dedicado à ciência e tecnologia de proteção contra raios.\\n\\n4. **Medalha de ouro nos Jogos Universitários Brasileiros**: O aluno Lucas Elbert do curso de Engenharia Eletrônica e Computação conquistou medalha de ouro durante a edição praia dos Jogos Universitários Brasileiros.\\n\\n5. **Minerva Náutica fica entre as cinco melhores equipes em competição nacional**: A equipe de nautimodelismo da Escola Politécnica, Minerva Náutica, garantiu o quarto lugar em uma competição nacional.\\n\\nSe precisar de mais informações sobre algum desses tópicos, é só me avisar!', additional_kwargs={}, response_metadata={'finish_reason': 'stop', 'model_name': 'gpt-4o-2024-08-06', 'system_fingerprint': 'fp_9faba9f038'}, id='run-f998e7fd-6f02-47e9-b1e3-2808118b7557-0')]}}, 'thread_id': 'test-thread-2', 'step': 9, 'parents': {}}, created_at='2024-12-16T01:13:23.454681+00:00', parent_config={'configurable': {'thread_id': 'test-thread-2', 'checkpoint_ns': '', 'checkpoint_id': '1efbb4af-0160-6b22-8008-bf12ac45fbb3'}}, tasks=())"
      ]
     },
     "execution_count": 92,
     "metadata": {},
     "output_type": "execute_result"
    }
   ],
   "source": [
    "agent_executor.get_state(config=config)"
   ]
  },
  {
   "cell_type": "markdown",
   "metadata": {},
   "source": [
    "---"
   ]
  },
  {
   "cell_type": "code",
   "execution_count": null,
   "metadata": {},
   "outputs": [],
   "source": [
    "import asyncio"
   ]
  },
  {
   "cell_type": "code",
   "execution_count": 68,
   "metadata": {},
   "outputs": [],
   "source": [
    "async def setup_llm(\n",
    "    temperature: float = 0.3\n",
    ") -> ChatOpenAI:\n",
    "\n",
    "    llm = ChatOpenAI(\n",
    "        model=COMPLETION_MODEL,\n",
    "        api_key=OPENAI_API_KEY,\n",
    "        streaming=False,\n",
    "        temperature=temperature\n",
    "    )\n",
    "\n",
    "    return llm\n",
    "\n",
    "async def setup_retriever(\n",
    "    search_type: str = \"hybrid\", \n",
    "    k: int = 3\n",
    ") -> AzureSearchVectorStoreRetriever:\n",
    "\n",
    "    embeddings = OpenAIEmbeddings(\n",
    "        model=EMBEDDING_MODEL,\n",
    "        openai_api_key=OPENAI_API_KEY, \n",
    "        dimensions=EMBEDDING_DIMENSIONS\n",
    "    )\n",
    "\n",
    "    vector_store = AzureSearch(\n",
    "        azure_search_endpoint=AZURE_SEARCH_ENDPOINT,\n",
    "        azure_search_key=AZURE_SEARCH_ADMIN_KEY,\n",
    "        index_name=SEARCH_INDEX_NAME,\n",
    "        embedding_function=embeddings.embed_query,\n",
    "        search_type=search_type\n",
    "    )\n",
    "\n",
    "    retriever = AzureSearchVectorStoreRetriever(\n",
    "        name=\"AzureSearchRetriever\",\n",
    "        vectorstore=vector_store,\n",
    "        search_type=search_type,\n",
    "        k=k\n",
    "    )\n",
    "\n",
    "    return retriever\n",
    "\n",
    "\n",
    "async def agent_orchestrator(\n",
    "    query: str, \n",
    "    chat_history: list,\n",
    "    session_id: str\n",
    ") -> str:\n",
    "\n",
    "    memory = MemorySaver()\n",
    "    llm = setup_llm(temperature=MODEL_TEMPERATURE)\n",
    "    retriever = setup_retriever(search_type=SEARCH_TYPE, k=NUM_DOCS_TO_RETRIEVE)\n",
    "\n",
    "    # Definir tool que irá realizar a busca vetorial\n",
    "    retriever_tool = create_retriever_tool(\n",
    "        retriever = retriever,\n",
    "        name = \"buscar_poli_info\",\n",
    "        description = \"Busca e retorna informações relacionadas a questões acadêmicas ou institucionais sobre a Escola Politécnica da UFRJ.\",\n",
    "    )\n",
    "\n",
    "    tools = [retriever_tool]\n",
    "\n",
    "    # Definir mensagem de sistema para direcionar as respostas\n",
    "    system_message = SystemMessage(\n",
    "        content=\"\"\"\n",
    "        Você é o PoliGPT, um assistente virtual da Escola Politécnica da Universidade Federal do Rio de Janeiro (UFRJ), que auxilia alunos, professores, funcionários e outros interessados \n",
    "        em questões acadêmicas e institucionais relacionadas à Escola Politécnica, além de conhecimentos gerais. Quaisquer perguntas relacionadas à área acadêmica feitas pelo\n",
    "        usuário devem ser por padrão consideradas como referentes à Escola Politécnica, a não ser que seja explicitamente dito o contrário. Caso não tenha informações suficientes \n",
    "        para responder à pergunta, diga que não sabe. Responda sempre na mesma língua usada pelo usuário; caso não seja possível reconhecer a língua, use português.\n",
    "        \"\"\"\n",
    "    )\n",
    "\n",
    "    # Definir agente executor do RAG com acesso às tools propostas\n",
    "    agent_executor = create_react_agent(\n",
    "        model=llm, \n",
    "        tools=tools, \n",
    "        state_modifier=system_message,\n",
    "        checkpointer=memory\n",
    "    )\n",
    "\n",
    "    # Transformar o histórico de mensagens para o formato esperado pelo agente\n",
    "    processed_history = [system_message]  # A mensagem do sistema deve ser a primeira da lista\n",
    "    for message in chat_history:\n",
    "        content = message[\"content\"]\n",
    "        if message[\"role\"] == \"user\":\n",
    "            processed_history += [HumanMessage(content=content)]\n",
    "        elif message[\"role\"] == \"ai\":\n",
    "            processed_history += [AIMessage(content=content)]\n",
    "        else:\n",
    "            raise ValueError(\"O histórico de mensagens contém mensagens inválidas.\")\n",
    "        \n",
    "    # Adicionar o prompt atual ao histórico\n",
    "    processed_history += [HumanMessage(content=query)]\n",
    "\n",
    "    # Remover mensagens antigas do histórico de mensagens\n",
    "    trimmed_history = trim_messages(\n",
    "        processed_history,\n",
    "        strategy=\"last\",\n",
    "        token_counter=llm,\n",
    "        max_tokens=8192,  # máximo de tokens que serão \"lembrados\" pelo modelo\n",
    "        start_on=\"human\",\n",
    "        end_on=\"human\",\n",
    "        include_system=True,\n",
    "        allow_partial=False\n",
    "    )\n",
    "\n",
    "    # Invocar o executor do agente para responder à pergunta do usuário\n",
    "    config = {\"configurable\": {\"thread_id\": session_id}}\n",
    "    messages = await agent_executor.ainvoke(input={\"messages\": trimmed_history}, config=config)\n",
    "\n",
    "    # Extrair resposta final\n",
    "    output = messages[\"messages\"][-1].content\n",
    "\n",
    "    return output"
   ]
  },
  {
   "cell_type": "code",
   "execution_count": 69,
   "metadata": {},
   "outputs": [],
   "source": [
    "session_id = \"001\"\n",
    "\n",
    "chat_history = [\n",
    "    {\"role\": \"user\", \"content\": \"Oi! Meu nome é Julia.\"},\n",
    "    {\"role\": \"ai\", \"content\": \"Ola!\"},\n",
    "    {\"role\": \"user\", \"content\": \"Como voce esta?\"},\n",
    "    {\"role\": \"ai\", \"content\": \"Bem, obrigado!\"},\n",
    "]"
   ]
  },
  {
   "cell_type": "code",
   "execution_count": 70,
   "metadata": {},
   "outputs": [
    {
     "ename": "AttributeError",
     "evalue": "'coroutine' object has no attribute 'bind_tools'",
     "output_type": "error",
     "traceback": [
      "\u001b[1;31m---------------------------------------------------------------------------\u001b[0m",
      "\u001b[1;31mAttributeError\u001b[0m                            Traceback (most recent call last)",
      "Cell \u001b[1;32mIn[70], line 5\u001b[0m\n\u001b[0;32m      1\u001b[0m \u001b[38;5;66;03m# %%async\u001b[39;00m\n\u001b[0;32m      3\u001b[0m query \u001b[38;5;241m=\u001b[39m \u001b[38;5;124m\"\u001b[39m\u001b[38;5;124mQual foi minha ultima mensagem?\u001b[39m\u001b[38;5;124m\"\u001b[39m\n\u001b[1;32m----> 5\u001b[0m answer \u001b[38;5;241m=\u001b[39m \u001b[38;5;28;01mawait\u001b[39;00m agent_orchestrator(query, chat_history, session_id)\n\u001b[0;32m      6\u001b[0m \u001b[38;5;28mprint\u001b[39m(answer)\n",
      "Cell \u001b[1;32mIn[68], line 73\u001b[0m, in \u001b[0;36magent_orchestrator\u001b[1;34m(query, chat_history, session_id)\u001b[0m\n\u001b[0;32m     63\u001b[0m system_message \u001b[38;5;241m=\u001b[39m SystemMessage(\n\u001b[0;32m     64\u001b[0m     content\u001b[38;5;241m=\u001b[39m\u001b[38;5;124m\"\"\"\u001b[39m\n\u001b[0;32m     65\u001b[0m \u001b[38;5;124m    Você é o PoliGPT, um assistente virtual da Escola Politécnica da Universidade Federal do Rio de Janeiro (UFRJ), que auxilia alunos, professores, funcionários e outros interessados \u001b[39m\n\u001b[1;32m   (...)\u001b[0m\n\u001b[0;32m     69\u001b[0m \u001b[38;5;124m    \u001b[39m\u001b[38;5;124m\"\"\"\u001b[39m\n\u001b[0;32m     70\u001b[0m )\n\u001b[0;32m     72\u001b[0m \u001b[38;5;66;03m# Definir agente executor do RAG com acesso às tools propostas\u001b[39;00m\n\u001b[1;32m---> 73\u001b[0m agent_executor \u001b[38;5;241m=\u001b[39m \u001b[43mcreate_react_agent\u001b[49m\u001b[43m(\u001b[49m\n\u001b[0;32m     74\u001b[0m \u001b[43m    \u001b[49m\u001b[43mmodel\u001b[49m\u001b[38;5;241;43m=\u001b[39;49m\u001b[43mllm\u001b[49m\u001b[43m,\u001b[49m\u001b[43m \u001b[49m\n\u001b[0;32m     75\u001b[0m \u001b[43m    \u001b[49m\u001b[43mtools\u001b[49m\u001b[38;5;241;43m=\u001b[39;49m\u001b[43mtools\u001b[49m\u001b[43m,\u001b[49m\u001b[43m \u001b[49m\n\u001b[0;32m     76\u001b[0m \u001b[43m    \u001b[49m\u001b[43mstate_modifier\u001b[49m\u001b[38;5;241;43m=\u001b[39;49m\u001b[43msystem_message\u001b[49m\u001b[43m,\u001b[49m\n\u001b[0;32m     77\u001b[0m \u001b[43m    \u001b[49m\u001b[43mcheckpointer\u001b[49m\u001b[38;5;241;43m=\u001b[39;49m\u001b[43mmemory\u001b[49m\n\u001b[0;32m     78\u001b[0m \u001b[43m\u001b[49m\u001b[43m)\u001b[49m\n\u001b[0;32m     80\u001b[0m \u001b[38;5;66;03m# Transformar o histórico de mensagens para o formato esperado pelo agente\u001b[39;00m\n\u001b[0;32m     81\u001b[0m processed_history \u001b[38;5;241m=\u001b[39m [system_message]  \u001b[38;5;66;03m# A mensagem do sistema deve ser a primeira da lista\u001b[39;00m\n",
      "File \u001b[1;32mc:\\Users\\BárbaraRodriguesdosS\\OneDrive - EloGroup\\Área de Trabalho\\Arquivos\\Pessoal\\Projeto Final\\RAG-Politecnica\\.venv\\Lib\\site-packages\\langgraph\\_api\\deprecation.py:80\u001b[0m, in \u001b[0;36mdeprecated_parameter.<locals>.decorator.<locals>.wrapper\u001b[1;34m(*args, **kwargs)\u001b[0m\n\u001b[0;32m     72\u001b[0m \u001b[38;5;28;01mif\u001b[39;00m arg_name \u001b[38;5;129;01min\u001b[39;00m kwargs:\n\u001b[0;32m     73\u001b[0m     warnings\u001b[38;5;241m.\u001b[39mwarn(\n\u001b[0;32m     74\u001b[0m         \u001b[38;5;124mf\u001b[39m\u001b[38;5;124m\"\u001b[39m\u001b[38;5;124mParameter \u001b[39m\u001b[38;5;124m'\u001b[39m\u001b[38;5;132;01m{\u001b[39;00marg_name\u001b[38;5;132;01m}\u001b[39;00m\u001b[38;5;124m'\u001b[39m\u001b[38;5;124m in function \u001b[39m\u001b[38;5;124m'\u001b[39m\u001b[38;5;132;01m{\u001b[39;00mfunc\u001b[38;5;241m.\u001b[39m\u001b[38;5;18m__name__\u001b[39m\u001b[38;5;132;01m}\u001b[39;00m\u001b[38;5;124m'\u001b[39m\u001b[38;5;124m is \u001b[39m\u001b[38;5;124m\"\u001b[39m\n\u001b[0;32m     75\u001b[0m         \u001b[38;5;124mf\u001b[39m\u001b[38;5;124m\"\u001b[39m\u001b[38;5;124mdeprecated as of version \u001b[39m\u001b[38;5;132;01m{\u001b[39;00msince\u001b[38;5;132;01m}\u001b[39;00m\u001b[38;5;124m and will be removed in version \u001b[39m\u001b[38;5;132;01m{\u001b[39;00mremoval\u001b[38;5;132;01m}\u001b[39;00m\u001b[38;5;124m. \u001b[39m\u001b[38;5;124m\"\u001b[39m\n\u001b[1;32m   (...)\u001b[0m\n\u001b[0;32m     78\u001b[0m         stacklevel\u001b[38;5;241m=\u001b[39m\u001b[38;5;241m2\u001b[39m,\n\u001b[0;32m     79\u001b[0m     )\n\u001b[1;32m---> 80\u001b[0m \u001b[38;5;28;01mreturn\u001b[39;00m \u001b[43mfunc\u001b[49m\u001b[43m(\u001b[49m\u001b[38;5;241;43m*\u001b[39;49m\u001b[43margs\u001b[49m\u001b[43m,\u001b[49m\u001b[43m \u001b[49m\u001b[38;5;241;43m*\u001b[39;49m\u001b[38;5;241;43m*\u001b[39;49m\u001b[43mkwargs\u001b[49m\u001b[43m)\u001b[49m\n",
      "File \u001b[1;32mc:\\Users\\BárbaraRodriguesdosS\\OneDrive - EloGroup\\Área de Trabalho\\Arquivos\\Pessoal\\Projeto Final\\RAG-Politecnica\\.venv\\Lib\\site-packages\\langgraph\\prebuilt\\chat_agent_executor.py:544\u001b[0m, in \u001b[0;36mcreate_react_agent\u001b[1;34m(model, tools, state_schema, messages_modifier, state_modifier, checkpointer, store, interrupt_before, interrupt_after, debug)\u001b[0m\n\u001b[0;32m    541\u001b[0m     tool_classes \u001b[38;5;241m=\u001b[39m \u001b[38;5;28mlist\u001b[39m(tool_node\u001b[38;5;241m.\u001b[39mtools_by_name\u001b[38;5;241m.\u001b[39mvalues())\n\u001b[0;32m    543\u001b[0m \u001b[38;5;28;01mif\u001b[39;00m _should_bind_tools(model, tool_classes):\n\u001b[1;32m--> 544\u001b[0m     model \u001b[38;5;241m=\u001b[39m \u001b[43mcast\u001b[49m\u001b[43m(\u001b[49m\u001b[43mBaseChatModel\u001b[49m\u001b[43m,\u001b[49m\u001b[43m \u001b[49m\u001b[43mmodel\u001b[49m\u001b[43m)\u001b[49m\u001b[38;5;241;43m.\u001b[39;49m\u001b[43mbind_tools\u001b[49m(tool_classes)\n\u001b[0;32m    546\u001b[0m \u001b[38;5;66;03m# Define the function that determines whether to continue or not\u001b[39;00m\n\u001b[0;32m    547\u001b[0m \u001b[38;5;28;01mdef\u001b[39;00m \u001b[38;5;21mshould_continue\u001b[39m(state: AgentState) \u001b[38;5;241m-\u001b[39m\u001b[38;5;241m>\u001b[39m Literal[\u001b[38;5;124m\"\u001b[39m\u001b[38;5;124mtools\u001b[39m\u001b[38;5;124m\"\u001b[39m, \u001b[38;5;124m\"\u001b[39m\u001b[38;5;124m__end__\u001b[39m\u001b[38;5;124m\"\u001b[39m]:\n",
      "\u001b[1;31mAttributeError\u001b[0m: 'coroutine' object has no attribute 'bind_tools'"
     ]
    }
   ],
   "source": [
    "# %%async\n",
    "\n",
    "query = \"Qual foi minha ultima mensagem?\"\n",
    "\n",
    "answer = await agent_orchestrator(query, chat_history, session_id)\n",
    "print(answer)"
   ]
  },
  {
   "cell_type": "code",
   "execution_count": null,
   "metadata": {},
   "outputs": [],
   "source": [
    "# Atualizar histórico\n",
    "last_user_message = {\"role\": \"user\", \"content\": query}\n",
    "last_ai_message = {\"role\": \"ai\", \"content\": answer}\n",
    "chat_history += [last_user_message] + [last_ai_message]"
   ]
  },
  {
   "cell_type": "code",
   "execution_count": 36,
   "metadata": {},
   "outputs": [
    {
     "data": {
      "text/plain": [
       "[{'role': 'user', 'content': 'Oi! Meu nome é Julia.'},\n",
       " {'role': 'ai', 'content': 'Ola!'},\n",
       " {'role': 'user', 'content': 'Como voce esta?'},\n",
       " {'role': 'ai', 'content': 'Bem, obrigado!'},\n",
       " {'role': 'user', 'content': 'Qual o meu nome?'},\n",
       " {'role': 'ai', 'content': 'Seu nome é Julia. Como posso ajudar você hoje?'},\n",
       " {'role': 'user', 'content': 'Qual foi minha ultima pergunta?'},\n",
       " {'role': 'ai', 'content': 'Sua última pergunta foi: \"Como voce esta?\"'},\n",
       " {'role': 'user', 'content': 'Qual foi minha ultima mensagem, eu quis dizer?'},\n",
       " {'role': 'ai', 'content': 'Sua última mensagem foi: \"Qual o meu nome?\"'},\n",
       " {'role': 'user',\n",
       "  'content': 'Qual o procedimento para ingressar na escola politecnica?'},\n",
       " {'role': 'ai',\n",
       "  'content': 'Para ingressar na Escola Politécnica da UFRJ, geralmente é necessário participar do processo seletivo do Sistema de Seleção Unificada (SiSU), que utiliza as notas do Exame Nacional do Ensino Médio (ENEM). Após ser aprovado, os novos alunos são recepcionados durante a Semana de Acolhimento aos Calouros, onde são apresentados à estrutura da escola, centros acadêmicos, equipes de competição, e programas de intercâmbio, entre outros.\\n\\nÉ importante se preparar bem para o ENEM e acompanhar os prazos e procedimentos do SiSU para garantir sua inscrição e participação no processo seletivo. Além disso, a Escola Politécnica oferece diversas oportunidades complementares, como iniciação científica, atividades de extensão, intercâmbio internacional, e equipes de competição, que enriquecem a formação dos alunos.\\n\\nSe precisar de mais informações ou detalhes específicos, sinta-se à vontade para perguntar!'}]"
      ]
     },
     "execution_count": 36,
     "metadata": {},
     "output_type": "execute_result"
    }
   ],
   "source": [
    "chat_history"
   ]
  }
 ],
 "metadata": {
  "kernelspec": {
   "display_name": ".venv",
   "language": "python",
   "name": "python3"
  },
  "language_info": {
   "codemirror_mode": {
    "name": "ipython",
    "version": 3
   },
   "file_extension": ".py",
   "mimetype": "text/x-python",
   "name": "python",
   "nbconvert_exporter": "python",
   "pygments_lexer": "ipython3",
   "version": "3.11.3"
  }
 },
 "nbformat": 4,
 "nbformat_minor": 2
}
